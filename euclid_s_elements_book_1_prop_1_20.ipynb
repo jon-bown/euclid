{
  "metadata": {
    "kernelspec": {
      "language": "python",
      "display_name": "Python 3",
      "name": "python3"
    },
    "language_info": {
      "name": "python",
      "version": "3.7.12",
      "mimetype": "text/x-python",
      "codemirror_mode": {
        "name": "ipython",
        "version": 3
      },
      "pygments_lexer": "ipython3",
      "nbconvert_exporter": "python",
      "file_extension": ".py"
    },
    "colab": {
      "provenance": [],
      "include_colab_link": true
    }
  },
  "nbformat_minor": 0,
  "nbformat": 4,
  "cells": [
    {
      "cell_type": "markdown",
      "metadata": {
        "id": "view-in-github",
        "colab_type": "text"
      },
      "source": [
        "<a href=\"https://colab.research.google.com/github/jon-bown/euclid/blob/master/euclid_s_elements_book_1_prop_1_20.ipynb\" target=\"_parent\"><img src=\"https://colab.research.google.com/assets/colab-badge.svg\" alt=\"Open In Colab\"/></a>"
      ]
    },
    {
      "cell_type": "markdown",
      "source": [
        "<h1 style=\"text-align:center; color:#1565c0;\">Euclid's Elements of Geometry</h1>\n",
        "\n",
        "\n",
        "<h2 style=\"text-align:center; font-weight:normal;\">Book 1: Fundamentals of Plane Geometry Involving Straight Lines</h2>\n",
        "<h2 style=\"text-align:center; font-weight:normal;\">Propositions 1-20</h2>"
      ],
      "metadata": {
        "id": "tDXv-JM2CNcn"
      }
    },
    {
      "cell_type": "markdown",
      "source": [
        "<div align='center'>\n",
        "<figure>\n",
        "  <img src=\"https://upload.wikimedia.org/wikipedia/commons/8/8d/P._Oxy._I_29.jpg\" alt=\"Trulli\" width=500>\n",
        "</figure>\n",
        "</div>"
      ],
      "metadata": {
        "id": "ODwy7mWnCNcp"
      }
    },
    {
      "cell_type": "markdown",
      "source": [
        "<blockquote style=\"font-style:italic; margin:20px 0; padding:10px; border-left:5px solid #1565c0; background-color:#f2f2f2;\">\n",
        "    \"If Euclid failed to kindle your youthful enthusiasm, then you were not born to be a scientific thinker.\"<br>\n",
        "    - Albert Einstein (On The Method of Theoretical Physics)\n",
        "</blockquote>"
      ],
      "metadata": {
        "id": "5FrSqxs2CNcq"
      }
    },
    {
      "cell_type": "markdown",
      "source": [
        "Much of my academic training was spent learning mathematics. It has long been a desire of mine to dig deeper into important mathematical works throughout history. At the top of the list has always been Euclid's Elements, otherwise known as 'The Elements'. Some fun facts about this important mathematical work:\n",
        "\n"
      ],
      "metadata": {
        "id": "3AJsLOpWCNcr"
      }
    },
    {
      "cell_type": "markdown",
      "source": [
        "* Often referred to as the most successful or influential textbook ever written\n",
        "* It was one of the earliest mathematical works to be published after the invention of the printing press\n",
        "* Second only to the Bible in number of editions published since 1482\n",
        "* Influenced many scientists including: Copernicus, Kepler, Galileo, Einstein and Newton\n",
        "* Used to be required in the ciriculum of all university students\n"
      ],
      "metadata": {
        "id": "eJI4LowVCNcr"
      }
    },
    {
      "cell_type": "markdown",
      "source": [
        "This notebook will take you through the first 20 propositions in Book 1. Instead of doing the proofs by hand, they are done using python classes and visualizations. The overall question I asked when starting this was 'can all this be done using python code without loss of generality?'. \n",
        "\n",
        "The Elements is written as if you have a ruler and a compass handy to draw lines and circles. One of the postulates basically says 'lets assume you can draw a perfect circle'. \n",
        "\n",
        "This is obviously not available in python as an object by default, so there are some classes and functions that are used in place of what would be available on a piece of paper. For example, the intersections of two or more circles is assumed to be visually available. The aim is to preserve the logic laid out in the propositions in the python code and create classes that implement the propositions as functions. \n",
        "\n",
        "Euclid gave us logic and proof of the claims but he also gave us algorithms for working in two dimensional geometry in Book 1. As the propositions progress in this notebook, I rely less and less on the exact proof laid out in the text. The work done in the first few propositions make life easier when say, drawing an equilateral triangle. I don't need to go through the proof of proposition 1 every time I want to draw one. I rely on already established functions and classes to follow the logic of the current proof and continue to abstract away the less important details. "
      ],
      "metadata": {
        "id": "p8l96j42CNcs"
      }
    },
    {
      "cell_type": "markdown",
      "source": [
        "The backbone of this notebook is a pre-existing python package conveniently titled 'Euclid'. The package and corresponding documentation can be found here: [Euclid](https://github.com/aholkner/euclid). Everything additional is either my own or specifically cited accordingly. "
      ],
      "metadata": {
        "id": "5oRwIy02CNcs"
      }
    },
    {
      "cell_type": "markdown",
      "source": [
        "A few sidenotes before starting:\n",
        "\n",
        "- You'll notice the frequent use of rounding throughout this notebook, this is purely to ensure float precision when building geometric objects in two dimensions. The actual values numericaly are irrational numbers and need to be truncated in order to make sense. This is purely a computational constraint and not a geometric one. The calculations and proofs still hold despite this truncation.\n",
        "- The language of the propositions is a bit simplified compared to the pure latin translation. This is to make your life easier when reading it. The text used to put this notebook together was by Richard Fitzpatrick which includes a more modern english translation of the original writings.\n",
        "- I take some liberties with cosine and sine"
      ],
      "metadata": {
        "id": "pYBQkR7xCNct"
      }
    },
    {
      "cell_type": "code",
      "source": [
        "!pip install euclid"
      ],
      "metadata": {
        "_kg_hide-output": true,
        "_kg_hide-input": true,
        "execution": {
          "iopub.status.busy": "2023-04-13T01:58:19.462725Z",
          "iopub.execute_input": "2023-04-13T01:58:19.463250Z",
          "iopub.status.idle": "2023-04-13T01:58:34.714205Z",
          "shell.execute_reply.started": "2023-04-13T01:58:19.463211Z",
          "shell.execute_reply": "2023-04-13T01:58:34.712686Z"
        },
        "trusted": true,
        "id": "oo9TO4oVCNct",
        "outputId": "1b7b6e49-7261-4082-d022-a15556a14aea"
      },
      "execution_count": null,
      "outputs": [
        {
          "name": "stdout",
          "text": "Collecting euclid\n  Downloading euclid-1.2.tar.gz (26 kB)\n  Preparing metadata (setup.py) ... \u001b[?25ldone\n\u001b[?25hBuilding wheels for collected packages: euclid\n  Building wheel for euclid (setup.py) ... \u001b[?25ldone\n\u001b[?25h  Created wheel for euclid: filename=euclid-1.2-py3-none-any.whl size=21723 sha256=ebea00e7a143880c6574c98c051d0d5f3119f5c99f63f381ada6314438dd11d2\n  Stored in directory: /root/.cache/pip/wheels/20/07/d1/af28c90c2066c7a79b893daedd28058b80c32ea9ca63b63e7c\nSuccessfully built euclid\nInstalling collected packages: euclid\nSuccessfully installed euclid-1.2\n\u001b[33mWARNING: Running pip as the 'root' user can result in broken permissions and conflicting behaviour with the system package manager. It is recommended to use a virtual environment instead: https://pip.pypa.io/warnings/venv\u001b[0m\u001b[33m\n\u001b[0m",
          "output_type": "stream"
        }
      ]
    },
    {
      "cell_type": "code",
      "source": [
        "import numpy as np\n",
        "import pandas as pd\n",
        "import matplotlib.pyplot as plt\n",
        "from euclid import *\n",
        "import math\n",
        "import random\n",
        "import euclid"
      ],
      "metadata": {
        "_uuid": "8f2839f25d086af736a60e9eeb907d3b93b6e0e5",
        "_cell_guid": "b1076dfc-b9ad-4769-8c92-a6c4dae69d19",
        "_kg_hide-input": true,
        "execution": {
          "iopub.status.busy": "2023-04-13T01:58:34.716571Z",
          "iopub.execute_input": "2023-04-13T01:58:34.717157Z",
          "iopub.status.idle": "2023-04-13T01:58:34.736477Z",
          "shell.execute_reply.started": "2023-04-13T01:58:34.717115Z",
          "shell.execute_reply": "2023-04-13T01:58:34.735362Z"
        },
        "trusted": true,
        "id": "kivSo3tPCNcu"
      },
      "execution_count": null,
      "outputs": []
    },
    {
      "cell_type": "markdown",
      "source": [
        "# Definitions\n",
        "\n",
        "The following is used to intoduced some syntax with the Euclid package and testing that it works properly. I will not list out all the definitions, just the ones relevant to the propositions 1-20"
      ],
      "metadata": {
        "id": "F3HiNkYHCNcu"
      }
    },
    {
      "cell_type": "markdown",
      "source": [
        "1. A point is that of which there is no part.\n",
        "\n",
        "2. And a line is a length without breadth.\n",
        "\n",
        "3. And the extremities of a line are points.\n",
        "\n",
        "4. A straight-line is one which lies evenly with points on itself.\n",
        "\n",
        "9. And when the lines containing the angle are straight then the angle is called **rectilinear**.\n",
        "\n",
        "11. An obtuse angle is one greater than a right-angle.\n",
        "\n",
        "12. And an acute angle is one less than a right-angle.\n",
        "\n",
        "13. A boundary is that which is the extremity of something.\n",
        "\n",
        "15. A circle is a plane figure contained by a single line, all of the straight-lines radiating towards from one point amongst those lying inside the figure are equal to one another. "
      ],
      "metadata": {
        "id": "XZEFU9hoCNcv"
      }
    },
    {
      "cell_type": "markdown",
      "source": [
        "# Postulates\n",
        "\n",
        "These are five main abstractions that allow the proofs presented by Euclid to be possible.\n",
        "\n",
        "1. Let it have been postulated to draw a straight-line from any point to any point."
      ],
      "metadata": {
        "id": "EaT1r-AYCNcv"
      }
    },
    {
      "cell_type": "code",
      "source": [
        "Line2(Point2(0,0), Point2(0,1))"
      ],
      "metadata": {
        "execution": {
          "iopub.status.busy": "2023-04-13T01:58:34.737716Z",
          "iopub.execute_input": "2023-04-13T01:58:34.738052Z",
          "iopub.status.idle": "2023-04-13T01:58:34.752253Z",
          "shell.execute_reply.started": "2023-04-13T01:58:34.738022Z",
          "shell.execute_reply": "2023-04-13T01:58:34.751021Z"
        },
        "trusted": true,
        "id": "J8U4QihdCNcv",
        "outputId": "29355333-d885-411d-83c5-da5f81dc6c45"
      },
      "execution_count": null,
      "outputs": [
        {
          "execution_count": 4,
          "output_type": "execute_result",
          "data": {
            "text/plain": "Line2(<0.00, 0.00> + u<0.00, 1.00>)"
          },
          "metadata": {}
        }
      ]
    },
    {
      "cell_type": "markdown",
      "source": [
        "Notice here that a Line2 object in the Euclid package has a starting point + a unit times another point. This is similar to a vector, internally there are two points stored but the main representation is a point and a magnitude."
      ],
      "metadata": {
        "id": "GNjS7OraCNcw"
      }
    },
    {
      "cell_type": "markdown",
      "source": [
        "2. And to produce a finite straight-line continuously in a straight-line."
      ],
      "metadata": {
        "id": "jcgoWlNWCNcw"
      }
    },
    {
      "cell_type": "code",
      "source": [
        "LineSegment2(Line2(Point2(0,0), Point2(0,1)))"
      ],
      "metadata": {
        "execution": {
          "iopub.status.busy": "2023-04-13T01:58:34.753748Z",
          "iopub.execute_input": "2023-04-13T01:58:34.754122Z",
          "iopub.status.idle": "2023-04-13T01:58:34.766610Z",
          "shell.execute_reply.started": "2023-04-13T01:58:34.754091Z",
          "shell.execute_reply": "2023-04-13T01:58:34.765450Z"
        },
        "trusted": true,
        "id": "n35ia7gKCNcx",
        "outputId": "f34f1afe-7ed5-4502-889f-ab3fe33b9a1c"
      },
      "execution_count": null,
      "outputs": [
        {
          "execution_count": 5,
          "output_type": "execute_result",
          "data": {
            "text/plain": "LineSegment2(<0.00, 0.00> to <0.00, 1.00>)"
          },
          "metadata": {}
        }
      ]
    },
    {
      "cell_type": "markdown",
      "source": [
        "3. And to draw a circle with any center and radius."
      ],
      "metadata": {
        "id": "Vi_BhL5JCNcx"
      }
    },
    {
      "cell_type": "code",
      "source": [
        "c = Circle(Point2(0,0), 2.0)\n",
        "#CENTER\n",
        "print(c.c)\n",
        "#RADIUS\n",
        "print(c.r)"
      ],
      "metadata": {
        "execution": {
          "iopub.status.busy": "2023-04-13T01:58:34.770493Z",
          "iopub.execute_input": "2023-04-13T01:58:34.771028Z",
          "iopub.status.idle": "2023-04-13T01:58:34.778723Z",
          "shell.execute_reply.started": "2023-04-13T01:58:34.770988Z",
          "shell.execute_reply": "2023-04-13T01:58:34.777492Z"
        },
        "trusted": true,
        "id": "ElEZzWcWCNcx",
        "outputId": "8c3ced37-84c7-48d5-8c92-2752fcc38b79"
      },
      "execution_count": null,
      "outputs": [
        {
          "name": "stdout",
          "text": "Point2(0.00, 0.00)\n2.0\n",
          "output_type": "stream"
        }
      ]
    },
    {
      "cell_type": "markdown",
      "source": [
        "\n",
        "\n",
        "\n",
        "\n",
        "\n",
        "4. And that all right-angles are equal to one another. "
      ],
      "metadata": {
        "id": "2Xj2WaLWCNcy"
      }
    },
    {
      "cell_type": "code",
      "source": [
        "A = Vector2(-1,1)\n",
        "B = Vector2(1,1)\n",
        "C = Vector2(0,1)\n",
        "D = Vector2(1,0)\n",
        "#AB = Line2(A, B)\n",
        "np.degrees(A.angle(B)) == np.degrees(C.angle(D))"
      ],
      "metadata": {
        "execution": {
          "iopub.status.busy": "2023-04-13T01:58:34.780367Z",
          "iopub.execute_input": "2023-04-13T01:58:34.780811Z",
          "iopub.status.idle": "2023-04-13T01:58:34.792562Z",
          "shell.execute_reply.started": "2023-04-13T01:58:34.780770Z",
          "shell.execute_reply": "2023-04-13T01:58:34.791151Z"
        },
        "trusted": true,
        "id": "Ik55yRD0CNcy",
        "outputId": "d6127b2d-ff35-4ec6-e885-def4293ef333"
      },
      "execution_count": null,
      "outputs": [
        {
          "execution_count": 7,
          "output_type": "execute_result",
          "data": {
            "text/plain": "True"
          },
          "metadata": {}
        }
      ]
    },
    {
      "cell_type": "markdown",
      "source": [
        "# Common Notions"
      ],
      "metadata": {
        "id": "rJZffM-sCNcz"
      }
    },
    {
      "cell_type": "markdown",
      "source": [
        "1. Things equal to the same thing are also equal to one another"
      ],
      "metadata": {
        "id": "Nd_p9q9cCNcz"
      }
    },
    {
      "cell_type": "code",
      "source": [
        "p = Point2(1.0, 2.0)\n",
        "p1 = p\n",
        "p2 = p\n",
        "print(p1 == p2)"
      ],
      "metadata": {
        "execution": {
          "iopub.status.busy": "2023-04-13T01:58:34.794084Z",
          "iopub.execute_input": "2023-04-13T01:58:34.794541Z",
          "iopub.status.idle": "2023-04-13T01:58:34.803902Z",
          "shell.execute_reply.started": "2023-04-13T01:58:34.794498Z",
          "shell.execute_reply": "2023-04-13T01:58:34.803053Z"
        },
        "trusted": true,
        "id": "1ghgv6q8CNcz",
        "outputId": "2cd72596-4c4d-4b6b-ea0f-47c1688b0f5d"
      },
      "execution_count": null,
      "outputs": [
        {
          "name": "stdout",
          "text": "True\n",
          "output_type": "stream"
        }
      ]
    },
    {
      "cell_type": "markdown",
      "source": [
        "2. And if equal things are added to equal things then the wholes are equal"
      ],
      "metadata": {
        "id": "e9zPlatcCNc0"
      }
    },
    {
      "cell_type": "code",
      "source": [
        "p1 = Point2(1.0, 1.0)\n",
        "p2 = Point2(2.0, 2.0)\n",
        "p3 = Point2(1.0, 1.0)\n",
        "p4 = Point2(2.0, 2.0)"
      ],
      "metadata": {
        "execution": {
          "iopub.status.busy": "2023-04-13T01:58:34.804939Z",
          "iopub.execute_input": "2023-04-13T01:58:34.805254Z",
          "iopub.status.idle": "2023-04-13T01:58:34.817074Z",
          "shell.execute_reply.started": "2023-04-13T01:58:34.805227Z",
          "shell.execute_reply": "2023-04-13T01:58:34.815973Z"
        },
        "trusted": true,
        "id": "pSaDngxJCNc0"
      },
      "execution_count": null,
      "outputs": []
    },
    {
      "cell_type": "code",
      "source": [
        "p1 + p2 == p3 + p4"
      ],
      "metadata": {
        "execution": {
          "iopub.status.busy": "2023-04-13T01:58:34.818333Z",
          "iopub.execute_input": "2023-04-13T01:58:34.818662Z",
          "iopub.status.idle": "2023-04-13T01:58:34.831141Z",
          "shell.execute_reply.started": "2023-04-13T01:58:34.818634Z",
          "shell.execute_reply": "2023-04-13T01:58:34.829986Z"
        },
        "trusted": true,
        "id": "dpvRyrN2CNc0",
        "outputId": "02188f4b-0240-4d69-81cd-8256af6e343c"
      },
      "execution_count": null,
      "outputs": [
        {
          "execution_count": 10,
          "output_type": "execute_result",
          "data": {
            "text/plain": "True"
          },
          "metadata": {}
        }
      ]
    },
    {
      "cell_type": "markdown",
      "source": [
        "3. And if equal things are subtracted from equal things then the remainders are equal."
      ],
      "metadata": {
        "id": "Wn7XbYwVCNc1"
      }
    },
    {
      "cell_type": "code",
      "source": [
        "p1 - p2 == p3 - p4"
      ],
      "metadata": {
        "execution": {
          "iopub.status.busy": "2023-04-13T01:58:34.832878Z",
          "iopub.execute_input": "2023-04-13T01:58:34.833310Z",
          "iopub.status.idle": "2023-04-13T01:58:34.843775Z",
          "shell.execute_reply.started": "2023-04-13T01:58:34.833279Z",
          "shell.execute_reply": "2023-04-13T01:58:34.842680Z"
        },
        "trusted": true,
        "id": "G-Ka4u7cCNc1",
        "outputId": "495b9df4-de4e-4bd7-a26c-06157c05a0aa"
      },
      "execution_count": null,
      "outputs": [
        {
          "execution_count": 11,
          "output_type": "execute_result",
          "data": {
            "text/plain": "True"
          },
          "metadata": {}
        }
      ]
    },
    {
      "cell_type": "markdown",
      "source": [
        "4. And things coinciding with one another are equal to one another"
      ],
      "metadata": {
        "id": "U6XNeBB-CNc1"
      }
    },
    {
      "cell_type": "markdown",
      "source": [
        "This essentially means that if two objects or figures can be exactly superimposed on each other, then they are equal in size, shape, and other properties. In the context of geometry, this principle is often used to show the congruence of geometric figures, such as triangles, rectangles, or other polygons. If you can place one figure on top of the other and they completely cover each other without any gaps or overlaps, then they are equal, or congruent, in all aspects."
      ],
      "metadata": {
        "id": "Y6ycqbJTCNc1"
      }
    },
    {
      "cell_type": "markdown",
      "source": [
        "5. And the whole is greater than the part\n",
        "\n",
        "In the context of geometry and mathematics, this notion implies that when you have a complete figure or quantity, any proper subset or portion of that figure or quantity will always be smaller than the whole. For example, if you have a line segment, any smaller segment within the original line segment will always be shorter in length than the entire line segment."
      ],
      "metadata": {
        "id": "F89hFTxGCNc1"
      }
    },
    {
      "cell_type": "markdown",
      "source": [
        "# Euclid Library Extensions\n",
        "\n",
        "The current version of the 'euclid' package is very minimal. I'm going to need some more convenient functions that implement the postulates so that I don't have to worry about details that are meant to be treated as a 'given' or have to unecessarily repeat myself. "
      ],
      "metadata": {
        "id": "Hmqk8-_OCNc2"
      }
    },
    {
      "cell_type": "code",
      "source": [
        "#EXTEND EUCLID CIRCLE CLASS TO GET INTERSECTION POINTS\n",
        "class Circle2E(euclid.Circle):\n",
        "\n",
        "    def get_intersections(self, c2):\n",
        "        \"\"\"\n",
        "        get intersections of self and another circle (which is at most two points, proven later by Euclid)\n",
        "        \"\"\"\n",
        "    # circle 1: (x0, y0), radius r0\n",
        "    # circle 2: (x1, y1), radius r1\n",
        "        if not isinstance(c2, Circle2E):\n",
        "            raise AttributeError(\"Must pass euclid Circle\")\n",
        "        \n",
        "        x0 = self.c.x\n",
        "        y0 = self.c.y\n",
        "        r0 = self.r\n",
        "    \n",
        "        x1 = c2.c.x\n",
        "        y1 = c2.c.y\n",
        "        r1 = c2.r\n",
        "\n",
        "        d=math.sqrt((x1-x0)**2 + (y1-y0)**2)\n",
        "    \n",
        "        # non intersecting\n",
        "        if d > r0 + r1 :\n",
        "            return None\n",
        "        # One circle within other\n",
        "        if d < abs(r0-r1):\n",
        "            return None\n",
        "        # coincident circles\n",
        "        if d == 0 and r0 == r1:\n",
        "            return None\n",
        "        else:\n",
        "            a=(r0**2-r1**2+d**2)/(2*d)\n",
        "            h=math.sqrt(r0**2-a**2)\n",
        "            x2=x0+a*(x1-x0)/d   \n",
        "            y2=y0+a*(y1-y0)/d   \n",
        "            x3=x2+h*(y1-y0)/d     \n",
        "            y3=y2-h*(x1-x0)/d \n",
        "\n",
        "            x4=x2-h*(y1-y0)/d\n",
        "            y4=y2+h*(x1-x0)/d\n",
        "        \n",
        "        return (x3, y3, x4, y4)"
      ],
      "metadata": {
        "execution": {
          "iopub.status.busy": "2023-04-13T01:58:34.845440Z",
          "iopub.execute_input": "2023-04-13T01:58:34.845797Z",
          "iopub.status.idle": "2023-04-13T01:58:34.857651Z",
          "shell.execute_reply.started": "2023-04-13T01:58:34.845756Z",
          "shell.execute_reply": "2023-04-13T01:58:34.856688Z"
        },
        "trusted": true,
        "id": "GKBgKjMrCNc2"
      },
      "execution_count": null,
      "outputs": []
    },
    {
      "cell_type": "code",
      "source": [
        "class Point2E(euclid.Point2):\n",
        "    def __eq__(self, other):\n",
        "        return (round(self.x,2), round(self.y, 2)) == (round(other.x,2), round(other.y,2))"
      ],
      "metadata": {
        "execution": {
          "iopub.status.busy": "2023-04-13T01:58:34.858686Z",
          "iopub.execute_input": "2023-04-13T01:58:34.859751Z",
          "iopub.status.idle": "2023-04-13T01:58:34.876896Z",
          "shell.execute_reply.started": "2023-04-13T01:58:34.859710Z",
          "shell.execute_reply": "2023-04-13T01:58:34.875507Z"
        },
        "trusted": true,
        "id": "ht3jF9keCNc2"
      },
      "execution_count": null,
      "outputs": []
    },
    {
      "cell_type": "code",
      "source": [
        "class Line2E(euclid.Line2):\n",
        "    def __len__(self):\n",
        "        return round(self.p1.distance(self.p2), 2)\n",
        "    def random_point(self):\n",
        "        \"\"\"\n",
        "        Returns random point along line\n",
        "        \"\"\"\n",
        "        t = random.random()  # Random value between 0 and 1\n",
        "        #Use convexity of line to interpolate\n",
        "        x = self.p1.x + t * (self.p2.x - self.p1.x)\n",
        "        y = self.p1.y + t * (self.p2.y - self.p1.y)\n",
        "\n",
        "        return Point2E(x, y)\n",
        "    def angle(self, other: euclid.Geometry):\n",
        "        return self.v.angle(other.v)\n",
        "    def plot(self):\n",
        "        return None"
      ],
      "metadata": {
        "execution": {
          "iopub.status.busy": "2023-04-13T01:58:34.878531Z",
          "iopub.execute_input": "2023-04-13T01:58:34.878909Z",
          "iopub.status.idle": "2023-04-13T01:58:34.890203Z",
          "shell.execute_reply.started": "2023-04-13T01:58:34.878876Z",
          "shell.execute_reply": "2023-04-13T01:58:34.889163Z"
        },
        "trusted": true,
        "id": "q1yAQMueCNc3"
      },
      "execution_count": null,
      "outputs": []
    },
    {
      "cell_type": "code",
      "source": [
        "class Rectilinear():\n",
        "    \"\"\"\n",
        "    Constructs a rectilinear with apex C jointing two lines at angle/2 from center\n",
        "    \"\"\"\n",
        "    def __init__(S1: float, angle: float, S2: float):\n",
        "        #construct point apex\n",
        "        self.C = Point2E(0,0)\n",
        "        #construct first side with length S1\n",
        "        xb = round(S1 * math.cos(math.radians(270-angle/2)),2)\n",
        "        yb = round(S1 * math.sin(math.radians(270-angle/2)),2)\n",
        "        self.A = Point2E(xb, yb)\n",
        "        a = Line2E(C, B)\n",
        "        #construct next side with length S2 making angle A with side 1\n",
        "        x2 = round(S2 * math.cos(math.radians(270+angle/2)), 2)\n",
        "        y2 = round(S2 * math.sin(math.radians(270+angle/2)), 2)\n",
        "        self.B = Point2E(x2, y2)\n",
        "        self.a = Line2E(C, A)\n",
        "        #take two final points and connect with line, pass to constructor\n",
        "        self.b = Line2E(B, A)\n",
        "    def plot(self):\n",
        "        return None"
      ],
      "metadata": {
        "execution": {
          "iopub.status.busy": "2023-04-13T01:58:34.893748Z",
          "iopub.execute_input": "2023-04-13T01:58:34.894742Z",
          "iopub.status.idle": "2023-04-13T01:58:34.905060Z",
          "shell.execute_reply.started": "2023-04-13T01:58:34.894704Z",
          "shell.execute_reply": "2023-04-13T01:58:34.903631Z"
        },
        "trusted": true,
        "id": "InqH6lpKCNc3"
      },
      "execution_count": null,
      "outputs": []
    },
    {
      "cell_type": "code",
      "source": [
        "def angle_btw_lines(L1, L2):\n",
        "    \"\"\"\n",
        "    Calculate the angle between two lines internal to the two lines in the context of a triangle\n",
        "    \"\"\"\n",
        "    # Find the common point\n",
        "    common_point = None\n",
        "    for p in [L1.p1, L1.p2]:\n",
        "        if p in [L2.p1, L2.p2]:\n",
        "            common_point = p\n",
        "            break\n",
        "\n",
        "    if common_point is None:\n",
        "        return np.nan\n",
        "\n",
        "    # Adjust the vectors to point inwards\n",
        "    v1 = L1.v if L1.p1 == common_point else -L1.v\n",
        "    v2 = L2.v if L2.p1 == common_point else -L2.v\n",
        "\n",
        "    # Calculate the angle using the dot product formula\n",
        "    cos_angle = np.dot(v1, v2) / (np.linalg.norm(v1) * np.linalg.norm(v2))\n",
        "    angle = np.arccos(np.clip(cos_angle, -1, 1))\n",
        "\n",
        "    return round(np.degrees(angle), 2)"
      ],
      "metadata": {
        "execution": {
          "iopub.status.busy": "2023-04-13T02:36:44.153339Z",
          "iopub.execute_input": "2023-04-13T02:36:44.154028Z",
          "iopub.status.idle": "2023-04-13T02:36:44.162550Z",
          "shell.execute_reply.started": "2023-04-13T02:36:44.153988Z",
          "shell.execute_reply": "2023-04-13T02:36:44.160911Z"
        },
        "trusted": true,
        "id": "reFFs93OCNc3"
      },
      "execution_count": null,
      "outputs": []
    },
    {
      "cell_type": "code",
      "source": [
        "# Validity of Triangle given sides\n",
        "# SRC: https://www.codesansar.com/python-programming-examples/check-validity-triangle-given-sides.htm\n",
        "def is_valid_triangle(a,b,c):\n",
        "    \"\"\"\n",
        "    \n",
        "    \"\"\"\n",
        "    if a+b>=c and b+c>=a and c+a>=b:\n",
        "        return True\n",
        "    else:\n",
        "        return False"
      ],
      "metadata": {
        "execution": {
          "iopub.status.busy": "2023-04-13T01:58:34.925504Z",
          "iopub.execute_input": "2023-04-13T01:58:34.926117Z",
          "iopub.status.idle": "2023-04-13T01:58:34.937158Z",
          "shell.execute_reply.started": "2023-04-13T01:58:34.926082Z",
          "shell.execute_reply": "2023-04-13T01:58:34.935834Z"
        },
        "trusted": true,
        "id": "YFOOjFe6CNc3"
      },
      "execution_count": null,
      "outputs": []
    },
    {
      "cell_type": "markdown",
      "source": [
        "To implement a Triangle object, each component will be set up to follow this pattern.\n",
        "\n",
        "<div align='center'>\n",
        "    <img src=\"https://upload.wikimedia.org/wikipedia/commons/thumb/4/49/Triangle_with_notations_2.svg/2560px-Triangle_with_notations_2.svg.png\" width=500/>\n",
        "    </div>"
      ],
      "metadata": {
        "id": "lIaYWl3eCNc4"
      }
    },
    {
      "cell_type": "code",
      "source": [
        "\"\"\"\n",
        "A triangle is a shape composed of three points, lines connecting those points, and three angles between each line.\n",
        "\"\"\"\n",
        "class Triangle():\n",
        "    def __init__(self, a: Line2E, b: Line2E, c: Line2E):\n",
        "        self.a = a\n",
        "        self.b = b\n",
        "        self.c = c\n",
        "        self.equilateral = (round(a.__len__(),2) == round(b.__len__(), 2)) and (round(b.__len__(), 2) == round(c.__len__(), 2))\n",
        "        self.A = c.p2\n",
        "        self.B = c.p1\n",
        "        self.C = a.p1\n",
        "        \n",
        "        #each angle\n",
        "        self.beta = angle_btw_lines(a, c)\n",
        "        self.alpha = angle_btw_lines(c, b)\n",
        "        self.gamma = angle_btw_lines(a, b)\n",
        "        \n",
        "        self.min_x = min(c.p2.x, c.p1.x, a.p1.x)\n",
        "        self.max_x = max(c.p2.x, c.p1.x, a.p1.x)\n",
        "        self.min_y = min(c.p2.y, c.p1.y, a.p1.y)\n",
        "        self.max_y = max(c.p2.y, c.p1.y, a.p1.y)\n",
        "    @classmethod\n",
        "    def SAS(cls, S1: float, angle: float, S2: float):\n",
        "        \"\"\"\n",
        "        Constructs a triangle from two side lengths and an angle between the two sides. \n",
        "        \"\"\"\n",
        "        #construct point apex\n",
        "        C = Point2E(0,0)\n",
        "        #construct first side with length S1\n",
        "        xb = round(S1 * math.cos(math.radians(270-angle/2)),2)\n",
        "        yb = round(S1 * math.sin(math.radians(270-angle/2)),2)\n",
        "        B = Point2E(xb, yb)\n",
        "        a = Line2E(C, B)\n",
        "        #construct next side with length S2 making angle A with side 1\n",
        "        x2 = round(S2 * math.cos(math.radians(270+angle/2)), 2)\n",
        "        y2 = round(S2 * math.sin(math.radians(270+angle/2)), 2)\n",
        "        A = Point2E(x2, y2)\n",
        "        b = Line2E(C, A)\n",
        "        #take two final points and connect with line, pass to constructor\n",
        "        c = Line2E(B, A)\n",
        "        return cls(a, b, c)\n",
        "    @classmethod\n",
        "    def AAA(cls, a1: float, a2: float, a3: float):\n",
        "        \"\"\"\n",
        "        Constructs triangle with three given angle sizes in degrees\n",
        "        \"\"\"\n",
        "        return None\n",
        "    @classmethod\n",
        "    def SSS(cls, S1: float, S2: float, S3: float):\n",
        "        \"\"\"\n",
        "        Constructs a triangle with given lengths (side, side, side)\n",
        "        S1 - a\n",
        "        S2 - b\n",
        "        S3 - c\n",
        "        \"\"\"\n",
        "        \n",
        "        if not is_valid_triangle(S1, S2, S3):\n",
        "            print(\"Invalid Triangle Specification\")\n",
        "            return None\n",
        "        C = Point2E(0,0)\n",
        "        B = Point2E(0, 0 - S1)\n",
        "        a = Line2E(C, B)\n",
        "        #determine angle to move to point A\n",
        "        beta = np.degrees(np.arccos((S1**2+S2**2-S3**2)/(2*S1*S2)))\n",
        "        print(beta)\n",
        "        x2 = round(S2 * math.cos(math.radians(90+beta)), 2)\n",
        "        y2 = round(S2 * math.sin(math.radians(90+beta)), 2)\n",
        "        A = Point2E(x2, y2)\n",
        "        c = Line2E(B, A)\n",
        "        b = Line2E(A, C)\n",
        "        return cls(a, b, c)\n",
        "    @classmethod\n",
        "    def ASA(cls, a1: float, S: float, a2: float):\n",
        "        \"\"\"\n",
        "        Constructs triangle with two base angles and base side length\n",
        "        \"\"\"\n",
        "        B = Point2E(0.0, 0.0)\n",
        "        C = Point2E(B.x+S, 0.0)\n",
        "        BC = Line2E(B, C)\n",
        "        xc = C.x + round(S*math.cos(math.radians(180-a2)),2)\n",
        "        yc = round(S*math.sin(math.radians(a2)),2)\n",
        "        tempC = Line2E(Point2E(xc, yc), C)\n",
        "        xb = round(S*math.cos(math.radians(a1)), 2)\n",
        "        yb = round(S*math.sin(math.radians(a1)), 2)\n",
        "        tempB = Line2E(B, Point2E(xb, yb))\n",
        "        A = tempB.intersect(tempC)\n",
        "        A = Point2E(A.x, A.y)\n",
        "        AC = Line2E(A, C)\n",
        "        AB = Line2E(A, B)\n",
        "        return cls(AB, BC, AC)\n",
        "    \n",
        "    def plot(self, title=''):\n",
        "        #should be adapted to length of triangle\n",
        "        plt.plot([self.a.p1.x, self.a.p2.x], [self.a.p1.y, self.a.p2.y], marker='o', label='a')\n",
        "        plt.plot([self.b.p1.x, self.b.p2.x], [self.b.p1.y, self.b.p2.y], marker='o', label='b')\n",
        "        plt.plot([self.c.p1.x, self.c.p2.x], [self.c.p1.y, self.c.p2.y], marker='o', label='c')\n",
        "        #plt.gca().add_artist(c3)\n",
        "        plt.title(title)\n",
        "        plt.legend()\n",
        "        plt.tight_layout()\n",
        "        plt.show()\n",
        "    def check_angles(self):\n",
        "        return self.beta + self.alpha + self.gamma\n",
        "        "
      ],
      "metadata": {
        "execution": {
          "iopub.status.busy": "2023-04-13T02:36:53.126812Z",
          "iopub.execute_input": "2023-04-13T02:36:53.127231Z",
          "iopub.status.idle": "2023-04-13T02:36:53.157794Z",
          "shell.execute_reply.started": "2023-04-13T02:36:53.127200Z",
          "shell.execute_reply": "2023-04-13T02:36:53.156597Z"
        },
        "trusted": true,
        "id": "awTHrqBGCNc4"
      },
      "execution_count": null,
      "outputs": []
    },
    {
      "cell_type": "code",
      "source": [
        "def plot_2d(objs, names, colors, edge=0.1, size=5):\n",
        "    \"\"\"\n",
        "    Plot 2D Euclid Elements\n",
        "    \n",
        "    Plots according to figsize of 'size' and edges away from max/min +/- 'edge'\n",
        "    \n",
        "    objs = List of objects to plot\n",
        "    names = List of names of objects to show on legend\n",
        "    colors = List of colors applied to each object\n",
        "    \n",
        "    \"\"\"\n",
        "    #figsize=(size, size)\n",
        "    fig, ax = plt.subplots()\n",
        "    min_x, max_x, min_y, max_y = None, None, None, None\n",
        "    for i, obj in enumerate(objs):\n",
        "        if isinstance(obj, Circle2E):\n",
        "            circle1=plt.Circle((obj.c.x, obj.c.y), obj.r, fill=False, color=colors[i], label=names[i])\n",
        "            plt.gca().add_artist(circle1)\n",
        "            \n",
        "            #adjust boundaries\n",
        "            min_x = min(min_x, obj.c.x - obj.r) if min_x is not None else obj.c.x - obj.r\n",
        "            max_x = max(max_x, obj.c.x + obj.r) if max_x is not None else obj.c.x + obj.r\n",
        "            min_y = min(min_y, obj.c.y - obj.r) if min_y is not None else obj.c.y - obj.r\n",
        "            max_y = max(max_y, obj.c.y + obj.r) if max_y is not None else obj.c.y + obj.r\n",
        "        elif isinstance(obj, Line2):\n",
        "            plt.plot([obj.p1.x, obj.p2.x], [obj.p1.y, obj.p2.y], marker='o', label=names[i])\n",
        "            ax.annotate(names[i][0], (obj.p1.x-0.15, obj.p1.y-0.01), fontsize=14)\n",
        "            ax.annotate(names[i][1], (obj.p2.x+0.03, obj.p2.y-0.01), fontsize=14)\n",
        "            \n",
        "            #adjust boundaries\n",
        "            min_x = min(min_x, obj.p1.x, obj.p2.x) if min_x is not None else min(obj.p1.x, obj.p2.x)\n",
        "            max_x = max(max_x, obj.p1.x, obj.p2.x) if max_x is not None else max(obj.p1.x, obj.p2.x)\n",
        "            min_y = min(min_y, obj.p1.y, obj.p2.y) if min_y is not None else min(obj.p1.y, obj.p2.y)\n",
        "            max_y = max(max_y, obj.p1.y, obj.p2.y) if max_y is not None else max(obj.p1.y, obj.p2.y)\n",
        "        elif isinstance(obj, Triangle):\n",
        "            continue\n",
        "    \n",
        "    plt.axis([min_x - edge*(max_x-min_x), max_x + edge*(max_x-min_x), min_y - edge*(max_y-min_y), max_y + edge*(max_y-min_y)])\n",
        "    plt.legend()\n",
        "    plt.tight_layout()\n",
        "    plt.show()\n",
        "        "
      ],
      "metadata": {
        "execution": {
          "iopub.status.busy": "2023-04-13T02:24:41.328603Z",
          "iopub.execute_input": "2023-04-13T02:24:41.329011Z",
          "iopub.status.idle": "2023-04-13T02:24:41.346560Z",
          "shell.execute_reply.started": "2023-04-13T02:24:41.328978Z",
          "shell.execute_reply": "2023-04-13T02:24:41.345403Z"
        },
        "trusted": true,
        "id": "dyv7u72mCNc4"
      },
      "execution_count": null,
      "outputs": []
    },
    {
      "cell_type": "code",
      "source": [
        "A = Point2(0,1)\n",
        "B = Point2(1,1)\n",
        "AB = Line2E(A, B)\n",
        "radius = A.distance(B)\n",
        "BCD = Circle2E(A, radius)\n",
        "ACE = Circle2E(B, radius)"
      ],
      "metadata": {
        "execution": {
          "iopub.status.busy": "2023-04-13T02:20:12.343770Z",
          "iopub.execute_input": "2023-04-13T02:20:12.344277Z",
          "iopub.status.idle": "2023-04-13T02:20:12.350780Z",
          "shell.execute_reply.started": "2023-04-13T02:20:12.344240Z",
          "shell.execute_reply": "2023-04-13T02:20:12.349629Z"
        },
        "trusted": true,
        "id": "ehObZRHGCNc5"
      },
      "execution_count": null,
      "outputs": []
    },
    {
      "cell_type": "code",
      "source": [
        "plot_2d([BCD, AB, ACE], ['BCD', 'AB', 'ACE'], colors=['red', 'blue', 'green'])"
      ],
      "metadata": {
        "execution": {
          "iopub.status.busy": "2023-04-13T02:24:44.738075Z",
          "iopub.execute_input": "2023-04-13T02:24:44.738552Z",
          "iopub.status.idle": "2023-04-13T02:24:45.092982Z",
          "shell.execute_reply.started": "2023-04-13T02:24:44.738505Z",
          "shell.execute_reply": "2023-04-13T02:24:45.091873Z"
        },
        "trusted": true,
        "id": "oatsqRl3CNc5",
        "outputId": "48722442-6d8e-45be-a911-fce9c603b0f3"
      },
      "execution_count": null,
      "outputs": [
        {
          "output_type": "display_data",
          "data": {
            "text/plain": "<Figure size 432x288 with 1 Axes>",
            "image/png": "[encoded data removed]"
          },
          "metadata": {
            "needs_background": "light"
          }
        }
      ]
    },
    {
      "cell_type": "code",
      "source": [
        "line1 = Line2E(Point2E(0.5, -0.5), Point2E(0.5, 0.5))\n",
        "line2 = Line2E(Point2E(0, 0), Point2E(1, 0))"
      ],
      "metadata": {
        "execution": {
          "iopub.status.busy": "2023-04-04T02:16:42.965188Z",
          "iopub.execute_input": "2023-04-04T02:16:42.965763Z",
          "iopub.status.idle": "2023-04-04T02:16:42.972101Z",
          "shell.execute_reply.started": "2023-04-04T02:16:42.965710Z",
          "shell.execute_reply": "2023-04-04T02:16:42.970399Z"
        },
        "trusted": true,
        "id": "3gdNJVqOCNc5"
      },
      "execution_count": null,
      "outputs": []
    },
    {
      "cell_type": "code",
      "source": [
        "test = Triangle.SAS(2, 90.0, 1)"
      ],
      "metadata": {
        "execution": {
          "iopub.status.busy": "2023-04-04T02:16:42.973944Z",
          "iopub.execute_input": "2023-04-04T02:16:42.974405Z",
          "iopub.status.idle": "2023-04-04T02:16:42.990059Z",
          "shell.execute_reply.started": "2023-04-04T02:16:42.974364Z",
          "shell.execute_reply": "2023-04-04T02:16:42.988428Z"
        },
        "trusted": true,
        "id": "OmMDnGvqCNc5"
      },
      "execution_count": null,
      "outputs": []
    },
    {
      "cell_type": "code",
      "source": [
        "test = Triangle.ASA(30.0, 1, 30.0)"
      ],
      "metadata": {
        "execution": {
          "iopub.status.busy": "2023-04-04T02:16:42.991780Z",
          "iopub.execute_input": "2023-04-04T02:16:42.992208Z",
          "iopub.status.idle": "2023-04-04T02:16:43.002934Z",
          "shell.execute_reply.started": "2023-04-04T02:16:42.992171Z",
          "shell.execute_reply": "2023-04-04T02:16:43.001152Z"
        },
        "trusted": true,
        "id": "RPYVbym9CNc5"
      },
      "execution_count": null,
      "outputs": []
    },
    {
      "cell_type": "code",
      "source": [
        "test.AB.__len__() == test.CA.__len__()"
      ],
      "metadata": {
        "execution": {
          "iopub.status.busy": "2023-04-04T02:16:43.005700Z",
          "iopub.execute_input": "2023-04-04T02:16:43.006114Z",
          "iopub.status.idle": "2023-04-04T02:16:43.041463Z",
          "shell.execute_reply.started": "2023-04-04T02:16:43.006061Z",
          "shell.execute_reply": "2023-04-04T02:16:43.039111Z"
        },
        "trusted": true,
        "id": "w8wZEsgrCNc5",
        "outputId": "b8349abc-3a27-4b1c-adbe-d73d2685e3bc"
      },
      "execution_count": null,
      "outputs": [
        {
          "traceback": [
            "\u001b[0;31m---------------------------------------------------------------------------\u001b[0m",
            "\u001b[0;31mAttributeError\u001b[0m                            Traceback (most recent call last)",
            "\u001b[0;32m/tmp/ipykernel_27/2216906448.py\u001b[0m in \u001b[0;36m<module>\u001b[0;34m\u001b[0m\n\u001b[0;32m----> 1\u001b[0;31m \u001b[0mtest\u001b[0m\u001b[0;34m.\u001b[0m\u001b[0mAB\u001b[0m\u001b[0;34m.\u001b[0m\u001b[0m__len__\u001b[0m\u001b[0;34m(\u001b[0m\u001b[0;34m)\u001b[0m \u001b[0;34m==\u001b[0m \u001b[0mtest\u001b[0m\u001b[0;34m.\u001b[0m\u001b[0mCA\u001b[0m\u001b[0;34m.\u001b[0m\u001b[0m__len__\u001b[0m\u001b[0;34m(\u001b[0m\u001b[0;34m)\u001b[0m\u001b[0;34m\u001b[0m\u001b[0;34m\u001b[0m\u001b[0m\n\u001b[0m",
            "\u001b[0;31mAttributeError\u001b[0m: 'Triangle' object has no attribute 'AB'"
          ],
          "ename": "AttributeError",
          "evalue": "'Triangle' object has no attribute 'AB'",
          "output_type": "error"
        }
      ]
    },
    {
      "cell_type": "code",
      "source": [
        "test.theta1"
      ],
      "metadata": {
        "execution": {
          "iopub.status.busy": "2023-04-04T02:16:43.043127Z",
          "iopub.status.idle": "2023-04-04T02:16:43.044500Z",
          "shell.execute_reply.started": "2023-04-04T02:16:43.044111Z",
          "shell.execute_reply": "2023-04-04T02:16:43.044153Z"
        },
        "trusted": true,
        "id": "LZuv_IvACNc5"
      },
      "execution_count": null,
      "outputs": []
    },
    {
      "cell_type": "code",
      "source": [
        "test.plot()"
      ],
      "metadata": {
        "execution": {
          "iopub.status.busy": "2023-04-04T02:16:43.046676Z",
          "iopub.status.idle": "2023-04-04T02:16:43.047388Z",
          "shell.execute_reply.started": "2023-04-04T02:16:43.047044Z",
          "shell.execute_reply": "2023-04-04T02:16:43.047073Z"
        },
        "trusted": true,
        "id": "kvcp0RPsCNc5"
      },
      "execution_count": null,
      "outputs": []
    },
    {
      "cell_type": "markdown",
      "source": [
        "# Proposition 1: Construct an Equilateral Triangle"
      ],
      "metadata": {
        "id": "RkB8zgXgCNc6"
      }
    },
    {
      "cell_type": "code",
      "source": [
        "#Let AB be the given finite straight line\n",
        "A = Point2(0,1)\n",
        "B = Point2(1,1)\n",
        "AB = Line2E(A, B)\n",
        "# Let the circle BCD with center A and radius AB have been drawn\n",
        "radius = A.distance(B)\n",
        "BCD = Circle2E(A, radius)\n",
        "# let the circle ACE with center B and radius BA have been drawn\n",
        "ACE = Circle2E(B, radius)\n",
        "points = BCD.get_intersections(ACE)\n",
        "C = Point2(points[2],points[3])\n",
        "# And let the straight-lines CA and CB have been joined from the point C, \n",
        "# where the circles cut one another to the points A and B.\n",
        "CA = Line2E(C, A)\n",
        "CB = Line2E(C, B)\n",
        "\n",
        "ABC = Triangle(AB, CA, CB)"
      ],
      "metadata": {
        "execution": {
          "iopub.status.busy": "2023-04-13T02:37:00.549924Z",
          "iopub.execute_input": "2023-04-13T02:37:00.550407Z",
          "iopub.status.idle": "2023-04-13T02:37:00.561605Z",
          "shell.execute_reply.started": "2023-04-13T02:37:00.550371Z",
          "shell.execute_reply": "2023-04-13T02:37:00.559994Z"
        },
        "trusted": true,
        "id": "uPkbn1feCNc6"
      },
      "execution_count": null,
      "outputs": []
    },
    {
      "cell_type": "code",
      "source": [
        "#Initial Checks\n",
        "print(ABC.alpha + ABC.beta + ABC.gamma)\n",
        "print(ABC.equilateral)"
      ],
      "metadata": {
        "execution": {
          "iopub.status.busy": "2023-04-13T02:37:06.160990Z",
          "iopub.execute_input": "2023-04-13T02:37:06.161382Z",
          "iopub.status.idle": "2023-04-13T02:37:06.168440Z",
          "shell.execute_reply.started": "2023-04-13T02:37:06.161351Z",
          "shell.execute_reply": "2023-04-13T02:37:06.167455Z"
        },
        "trusted": true,
        "id": "fHPj7xrECNc6",
        "outputId": "e9e2116a-9bd0-4f48-da50-802ce4c87fe2"
      },
      "execution_count": null,
      "outputs": [
        {
          "name": "stdout",
          "text": "180.0\nTrue\n",
          "output_type": "stream"
        }
      ]
    },
    {
      "cell_type": "code",
      "source": [
        "plot_2d([BCD, ACE, ABC], ['BCD','ACE','ABC'], colors=['red', 'blue', 'green'])"
      ],
      "metadata": {
        "id": "b7LKZkUnCNc6"
      },
      "execution_count": null,
      "outputs": []
    },
    {
      "cell_type": "code",
      "source": [
        "#set axis limits of plot (x=0 to 20, y=0 to 20)\n",
        "fig, ax = plt.subplots()\n",
        "plt.axis([-1.5, 2.5, -0.3, 2.5])\n",
        "#plt.axis(\"equal\")\n",
        "\n",
        "#define circles\n",
        "circle1=plt.Circle((BCD.c.x, BCD.c.y), BCD.r, fill=False, color='red', label='c1')\n",
        "circle2=plt.Circle((ACE.c.x, ACE.c.y), ACE.r, fill=False, color='black', label='c2')\n",
        "\n",
        "#plt.axis('equal')\n",
        "#add circles to plot\n",
        "plt.gca().add_artist(circle1)\n",
        "plt.gca().add_artist(circle2)\n",
        "plt.plot([AB.p1.x, AB.p2.x], [AB.p1.y, AB.p2.y], marker='o', label='AB')\n",
        "ax.annotate('A', (AB.p1.x-0.15, AB.p1.y-0.01), fontsize=14)\n",
        "ax.annotate('B', (AB.p2.x+0.03, AB.p2.y-0.01), fontsize=14)\n",
        "plt.plot([CB.p1.x, CB.p2.x], [CB.p1.y, CB.p2.y], marker='o', label='CB')\n",
        "ax.annotate('C', (CB.p1.x-0.05, CB.p1.y+0.08), fontsize=14)\n",
        "plt.plot([CA.p1.x, CA.p2.x], [CA.p1.y, CA.p2.y], marker='o', label='CA')\n",
        "#plt.gca().add_artist(c3)\n",
        "plt.title('Proposition 1')\n",
        "plt.legend()\n",
        "plt.tight_layout()"
      ],
      "metadata": {
        "execution": {
          "iopub.status.busy": "2023-04-13T02:22:50.530890Z",
          "iopub.execute_input": "2023-04-13T02:22:50.531282Z",
          "iopub.status.idle": "2023-04-13T02:22:50.995304Z",
          "shell.execute_reply.started": "2023-04-13T02:22:50.531252Z",
          "shell.execute_reply": "2023-04-13T02:22:50.993713Z"
        },
        "trusted": true,
        "id": "oZD5PxnDCNc6",
        "outputId": "4308454f-c5f8-4f13-bd0d-96cff89b1445"
      },
      "execution_count": null,
      "outputs": [
        {
          "output_type": "display_data",
          "data": {
            "text/plain": "<Figure size 432x288 with 1 Axes>",
            "image/png": "[encoded data removed]"
          },
          "metadata": {
            "needs_background": "light"
          }
        }
      ]
    },
    {
      "cell_type": "code",
      "source": [
        "#fig, ax = plt.subplots()\n",
        "plt.axis([-1.5, 2.5, -0.3, 2.5])\n",
        "#plt.axis(\"equal\")\n",
        "\n",
        "#define circles\n",
        "circle1=plt.Circle((BCD.c.x, BCD.c.y), BCD.r, fill=False, color='red', label='c1')\n",
        "circle2=plt.Circle((ACE.c.x, ACE.c.y), ACE.r, fill=False, color='black', label='c2')\n",
        "\n",
        "#plt.axis('equal')\n",
        "#add circles to plot\n",
        "plt.gca().add_artist(circle1)\n",
        "plt.gca().add_artist(circle2)\n",
        "plt.plot([AB.p1.x, AB.p2.x], [AB.p1.y, AB.p2.y], marker='o', label='AB')\n",
        "plt.plot([CB.p1.x, CB.p2.x], [CB.p1.y, CB.p2.y], marker='o', label='CB')\n",
        "plt.plot([CA.p1.x, CA.p2.x], [CA.p1.y, CA.p2.y], marker='o', label='CA')\n",
        "#plt.gca().add_artist(c3)\n",
        "plt.title('Proposition 1')\n",
        "plt.legend()\n",
        "plt.tight_layout()"
      ],
      "metadata": {
        "execution": {
          "iopub.status.busy": "2023-04-04T02:16:43.074615Z",
          "iopub.status.idle": "2023-04-04T02:16:43.075376Z",
          "shell.execute_reply.started": "2023-04-04T02:16:43.075176Z",
          "shell.execute_reply": "2023-04-04T02:16:43.075197Z"
        },
        "trusted": true,
        "id": "eGYTELqXCNc6"
      },
      "execution_count": null,
      "outputs": []
    },
    {
      "cell_type": "code",
      "source": [
        "#ABSTRACTION OF PROP 1\n",
        "\"\"\"\n",
        "Given a line, construct an equliateral triangle with a new point C\n",
        "\"\"\"\n",
        "def draw_equilateral(AB: Line2E, direction=1):\n",
        "    A = AB.p1\n",
        "    B = AB.p2\n",
        "    radius = A.distance(B)\n",
        "    print(radius)\n",
        "    BCD = Circle2E(A, radius)\n",
        "    ACE = Circle2E(B, radius)\n",
        "    points = BCD.get_intersections(ACE)\n",
        "    if direction == 1:\n",
        "        C = Point2E(points[2],points[3])\n",
        "    else:\n",
        "        C = Point2E(points[0],points[1])\n",
        "        \n",
        "    print(f'C = {C.x}, {C.y}')\n",
        "    b = Line2E(A, C)\n",
        "    a = Line2E(C, B)\n",
        "    c = Line2E(B, A)\n",
        "    print(a.__len__())\n",
        "    print(b.__len__())\n",
        "    print(c.__len__())\n",
        "    ABC = Triangle(a, b, c)\n",
        "    return ABC"
      ],
      "metadata": {
        "execution": {
          "iopub.status.busy": "2023-04-04T03:37:04.428170Z",
          "iopub.execute_input": "2023-04-04T03:37:04.428764Z",
          "iopub.status.idle": "2023-04-04T03:37:04.440856Z",
          "shell.execute_reply.started": "2023-04-04T03:37:04.428712Z",
          "shell.execute_reply": "2023-04-04T03:37:04.439621Z"
        },
        "trusted": true,
        "id": "IoRrNPebCNc7"
      },
      "execution_count": null,
      "outputs": []
    },
    {
      "cell_type": "markdown",
      "source": [
        "# Proposition 2: To place a straight-line equal to a given straight-line at a given point (as an extremety)"
      ],
      "metadata": {
        "id": "pAAqnK7ICNc7"
      }
    },
    {
      "cell_type": "code",
      "source": [
        "A = Point2(-1,-1)\n",
        "B = Point2(1, -1)\n",
        "AB = Line2(A, B)\n",
        "C = Point2(1, 4)\n",
        "DAB = draw_equilateral(AB)\n",
        "BC = Line2(B, C)"
      ],
      "metadata": {
        "execution": {
          "iopub.status.busy": "2023-03-31T03:35:17.844574Z",
          "iopub.execute_input": "2023-03-31T03:35:17.845045Z",
          "iopub.status.idle": "2023-03-31T03:35:17.855493Z",
          "shell.execute_reply.started": "2023-03-31T03:35:17.845001Z",
          "shell.execute_reply": "2023-03-31T03:35:17.854268Z"
        },
        "trusted": true,
        "id": "fbU6GvbSCNc7"
      },
      "execution_count": null,
      "outputs": []
    },
    {
      "cell_type": "code",
      "source": [
        "DAB.equilateral"
      ],
      "metadata": {
        "execution": {
          "iopub.status.busy": "2023-03-31T03:35:17.857244Z",
          "iopub.execute_input": "2023-03-31T03:35:17.857717Z",
          "iopub.status.idle": "2023-03-31T03:35:17.869998Z",
          "shell.execute_reply.started": "2023-03-31T03:35:17.857673Z",
          "shell.execute_reply": "2023-03-31T03:35:17.869008Z"
        },
        "trusted": true,
        "id": "PDTXvyTwCNc7",
        "outputId": "8a1418a2-6d54-4a35-89c3-de07ce794285"
      },
      "execution_count": null,
      "outputs": [
        {
          "execution_count": 30,
          "output_type": "execute_result",
          "data": {
            "text/plain": "True"
          },
          "metadata": {}
        }
      ]
    },
    {
      "cell_type": "code",
      "source": [
        "D = DAB.p3"
      ],
      "metadata": {
        "execution": {
          "iopub.status.busy": "2023-03-31T03:35:17.871696Z",
          "iopub.execute_input": "2023-03-31T03:35:17.872038Z",
          "iopub.status.idle": "2023-03-31T03:35:17.882853Z",
          "shell.execute_reply.started": "2023-03-31T03:35:17.872009Z",
          "shell.execute_reply": "2023-03-31T03:35:17.881737Z"
        },
        "trusted": true,
        "id": "rrJLrWDLCNc7"
      },
      "execution_count": null,
      "outputs": []
    },
    {
      "cell_type": "code",
      "source": [
        "AB.p1"
      ],
      "metadata": {
        "execution": {
          "iopub.status.busy": "2023-03-31T03:35:17.884691Z",
          "iopub.execute_input": "2023-03-31T03:35:17.885042Z",
          "iopub.status.idle": "2023-03-31T03:35:17.899501Z",
          "shell.execute_reply.started": "2023-03-31T03:35:17.885012Z",
          "shell.execute_reply": "2023-03-31T03:35:17.898361Z"
        },
        "trusted": true,
        "id": "8clGXYTwCNc7",
        "outputId": "f166174d-1454-4b69-9797-5b15e66a72e8"
      },
      "execution_count": null,
      "outputs": [
        {
          "execution_count": 32,
          "output_type": "execute_result",
          "data": {
            "text/plain": "Point2(-1.00, -1.00)"
          },
          "metadata": {}
        }
      ]
    },
    {
      "cell_type": "code",
      "source": [
        "DAB.CA.v"
      ],
      "metadata": {
        "execution": {
          "iopub.status.busy": "2023-03-31T03:35:17.901012Z",
          "iopub.execute_input": "2023-03-31T03:35:17.901709Z",
          "iopub.status.idle": "2023-03-31T03:35:17.913197Z",
          "shell.execute_reply.started": "2023-03-31T03:35:17.901674Z",
          "shell.execute_reply": "2023-03-31T03:35:17.911585Z"
        },
        "trusted": true,
        "id": "D1FZnN7-CNc8",
        "outputId": "745ac609-e0a7-49bb-f732-de969b9cc350"
      },
      "execution_count": null,
      "outputs": [
        {
          "execution_count": 33,
          "output_type": "execute_result",
          "data": {
            "text/plain": "Vector2(-1.00, -1.73)"
          },
          "metadata": {}
        }
      ]
    },
    {
      "cell_type": "code",
      "source": [
        "E = A + 6*DAB.CA.v.__truediv__(DAB.CA.v.__abs__())\n",
        "F = B + 6*DAB.CB.v.__truediv__(DAB.CB.v.__abs__())"
      ],
      "metadata": {
        "execution": {
          "iopub.status.busy": "2023-03-31T03:35:17.914748Z",
          "iopub.execute_input": "2023-03-31T03:35:17.915204Z",
          "iopub.status.idle": "2023-03-31T03:35:17.924025Z",
          "shell.execute_reply.started": "2023-03-31T03:35:17.915159Z",
          "shell.execute_reply": "2023-03-31T03:35:17.922603Z"
        },
        "trusted": true,
        "id": "AVKnjzWcCNc8"
      },
      "execution_count": null,
      "outputs": []
    },
    {
      "cell_type": "code",
      "source": [
        "F"
      ],
      "metadata": {
        "execution": {
          "iopub.status.busy": "2023-03-31T03:35:17.925704Z",
          "iopub.execute_input": "2023-03-31T03:35:17.926204Z",
          "iopub.status.idle": "2023-03-31T03:35:17.938278Z",
          "shell.execute_reply.started": "2023-03-31T03:35:17.926161Z",
          "shell.execute_reply": "2023-03-31T03:35:17.936814Z"
        },
        "trusted": true,
        "id": "paURKsAKCNc8",
        "outputId": "7ee05dcc-c05e-458d-97f8-ddb311256fca"
      },
      "execution_count": null,
      "outputs": [
        {
          "execution_count": 35,
          "output_type": "execute_result",
          "data": {
            "text/plain": "Point2(4.00, -6.20)"
          },
          "metadata": {}
        }
      ]
    },
    {
      "cell_type": "code",
      "source": [
        "A.distance(E)"
      ],
      "metadata": {
        "execution": {
          "iopub.status.busy": "2023-03-31T03:35:17.939652Z",
          "iopub.execute_input": "2023-03-31T03:35:17.940125Z",
          "iopub.status.idle": "2023-03-31T03:35:17.950442Z",
          "shell.execute_reply.started": "2023-03-31T03:35:17.940079Z",
          "shell.execute_reply": "2023-03-31T03:35:17.949098Z"
        },
        "trusted": true,
        "id": "iEBWII0ECNc8",
        "outputId": "fa316242-9680-4057-af19-7cf2b57c9d8e"
      },
      "execution_count": null,
      "outputs": [
        {
          "execution_count": 36,
          "output_type": "execute_result",
          "data": {
            "text/plain": "6.000000000000001"
          },
          "metadata": {}
        }
      ]
    },
    {
      "cell_type": "code",
      "source": [
        "B.distance(F)"
      ],
      "metadata": {
        "execution": {
          "iopub.status.busy": "2023-03-31T03:35:17.952386Z",
          "iopub.execute_input": "2023-03-31T03:35:17.953625Z",
          "iopub.status.idle": "2023-03-31T03:35:17.963189Z",
          "shell.execute_reply.started": "2023-03-31T03:35:17.953582Z",
          "shell.execute_reply": "2023-03-31T03:35:17.961974Z"
        },
        "trusted": true,
        "id": "rO7vXqbYCNc8",
        "outputId": "adef7ef2-b071-4fcb-c13c-7125c1918472"
      },
      "execution_count": null,
      "outputs": [
        {
          "execution_count": 37,
          "output_type": "execute_result",
          "data": {
            "text/plain": "6.000000000000001"
          },
          "metadata": {}
        }
      ]
    },
    {
      "cell_type": "code",
      "source": [
        "AE = Line2(A, E)\n",
        "BF = Line2(B, F)"
      ],
      "metadata": {
        "execution": {
          "iopub.status.busy": "2023-03-31T03:35:17.964904Z",
          "iopub.execute_input": "2023-03-31T03:35:17.965270Z",
          "iopub.status.idle": "2023-03-31T03:35:17.973969Z",
          "shell.execute_reply.started": "2023-03-31T03:35:17.965239Z",
          "shell.execute_reply": "2023-03-31T03:35:17.972924Z"
        },
        "trusted": true,
        "id": "tS6Q-sq4CNc8"
      },
      "execution_count": null,
      "outputs": []
    },
    {
      "cell_type": "code",
      "source": [
        "CGH = Circle2E(B, B.distance(C))"
      ],
      "metadata": {
        "execution": {
          "iopub.status.busy": "2023-03-31T03:35:17.975017Z",
          "iopub.execute_input": "2023-03-31T03:35:17.975407Z",
          "iopub.status.idle": "2023-03-31T03:35:17.985953Z",
          "shell.execute_reply.started": "2023-03-31T03:35:17.975374Z",
          "shell.execute_reply": "2023-03-31T03:35:17.984629Z"
        },
        "trusted": true,
        "id": "aOuvKGmwCNc9"
      },
      "execution_count": null,
      "outputs": []
    },
    {
      "cell_type": "code",
      "source": [
        "G = euclid._connect_point2_circle(F, CGH).p2\n",
        "G"
      ],
      "metadata": {
        "execution": {
          "iopub.status.busy": "2023-03-31T03:35:17.987249Z",
          "iopub.execute_input": "2023-03-31T03:35:17.987747Z",
          "iopub.status.idle": "2023-03-31T03:35:18.000789Z",
          "shell.execute_reply.started": "2023-03-31T03:35:17.987702Z",
          "shell.execute_reply": "2023-03-31T03:35:17.999624Z"
        },
        "trusted": true,
        "id": "yNQTlzt0CNc9",
        "outputId": "b712ae71-cdc8-446e-e60e-fbaaf095bc15"
      },
      "execution_count": null,
      "outputs": [
        {
          "execution_count": 40,
          "output_type": "execute_result",
          "data": {
            "text/plain": "Point2(3.50, -5.33)"
          },
          "metadata": {}
        }
      ]
    },
    {
      "cell_type": "code",
      "source": [
        "BF.connect(CGH)"
      ],
      "metadata": {
        "execution": {
          "iopub.status.busy": "2023-03-31T03:35:18.002560Z",
          "iopub.execute_input": "2023-03-31T03:35:18.004112Z",
          "iopub.status.idle": "2023-03-31T03:35:18.015422Z",
          "shell.execute_reply.started": "2023-03-31T03:35:18.004060Z",
          "shell.execute_reply": "2023-03-31T03:35:18.013972Z"
        },
        "trusted": true,
        "id": "sLXI02cnCNc9",
        "outputId": "96588b66-bf8d-4cac-9da4-ec6c6b052d5e"
      },
      "execution_count": null,
      "outputs": [
        {
          "execution_count": 41,
          "output_type": "execute_result",
          "data": {
            "text/plain": "LineSegment2(<1.00, -1.00> to <1.00, -1.00>)"
          },
          "metadata": {}
        }
      ]
    },
    {
      "cell_type": "code",
      "source": [
        "#need to find G\n",
        "GKL = Circle2E(D, D.distance(G))"
      ],
      "metadata": {
        "execution": {
          "iopub.status.busy": "2023-03-31T03:35:18.017382Z",
          "iopub.execute_input": "2023-03-31T03:35:18.018235Z",
          "iopub.status.idle": "2023-03-31T03:35:18.028374Z",
          "shell.execute_reply.started": "2023-03-31T03:35:18.018191Z",
          "shell.execute_reply": "2023-03-31T03:35:18.026904Z"
        },
        "trusted": true,
        "id": "YqdigCMfCNc9"
      },
      "execution_count": null,
      "outputs": []
    },
    {
      "cell_type": "code",
      "source": [
        "L = euclid._connect_point2_circle(E, GKL).p2\n",
        "L"
      ],
      "metadata": {
        "execution": {
          "iopub.status.busy": "2023-03-31T03:35:18.030178Z",
          "iopub.execute_input": "2023-03-31T03:35:18.030625Z",
          "iopub.status.idle": "2023-03-31T03:35:18.043866Z",
          "shell.execute_reply.started": "2023-03-31T03:35:18.030589Z",
          "shell.execute_reply": "2023-03-31T03:35:18.042687Z"
        },
        "trusted": true,
        "id": "YSCseXSmCNc9",
        "outputId": "417d3db5-6fd2-4bda-e071-f4884a512b27"
      },
      "execution_count": null,
      "outputs": [
        {
          "execution_count": 43,
          "output_type": "execute_result",
          "data": {
            "text/plain": "Point2(-3.50, -5.33)"
          },
          "metadata": {}
        }
      ]
    },
    {
      "cell_type": "code",
      "source": [
        "AL = Line2(A, L)\n",
        "A.distance(L)"
      ],
      "metadata": {
        "execution": {
          "iopub.status.busy": "2023-03-31T03:35:18.045330Z",
          "iopub.execute_input": "2023-03-31T03:35:18.045711Z",
          "iopub.status.idle": "2023-03-31T03:35:18.069334Z",
          "shell.execute_reply.started": "2023-03-31T03:35:18.045673Z",
          "shell.execute_reply": "2023-03-31T03:35:18.067670Z"
        },
        "trusted": true,
        "id": "l1ZjQPz2CNc9",
        "outputId": "c3b1dec3-bfea-4c1b-e342-8ca8cbf02148"
      },
      "execution_count": null,
      "outputs": [
        {
          "execution_count": 44,
          "output_type": "execute_result",
          "data": {
            "text/plain": "5.0"
          },
          "metadata": {}
        }
      ]
    },
    {
      "cell_type": "code",
      "source": [
        "A.distance(L) == B.distance(C)"
      ],
      "metadata": {
        "execution": {
          "iopub.status.busy": "2023-03-31T03:35:18.070721Z",
          "iopub.execute_input": "2023-03-31T03:35:18.071121Z",
          "iopub.status.idle": "2023-03-31T03:35:18.082567Z",
          "shell.execute_reply.started": "2023-03-31T03:35:18.071086Z",
          "shell.execute_reply": "2023-03-31T03:35:18.081502Z"
        },
        "trusted": true,
        "id": "7b7taKVUCNc-",
        "outputId": "e714826a-3d3c-4b49-95f5-5d2cef473110"
      },
      "execution_count": null,
      "outputs": [
        {
          "execution_count": 45,
          "output_type": "execute_result",
          "data": {
            "text/plain": "True"
          },
          "metadata": {}
        }
      ]
    },
    {
      "cell_type": "code",
      "source": [
        "plt.axis([-11, 11, -11, 11])\n",
        "#plt.axis(\"equal\")\n",
        "\n",
        "#define circles\n",
        "circle1=plt.Circle((CGH.c.x, CGH.c.y), CGH.r, fill=False, color='red', label='c1')\n",
        "circle2=plt.Circle((GKL.c.x, GKL.c.y), GKL.r, fill=False, color='black', label='c2')\n",
        "\n",
        "#plt.axis('equal')\n",
        "#add circles to plot\n",
        "plt.gca().add_artist(circle1)\n",
        "plt.gca().add_artist(circle2)\n",
        "#Triangle\n",
        "plt.plot([DAB.p1.x, DAB.p2.x], [DAB.p1.y, DAB.p2.y], marker='o', label='AB')\n",
        "plt.plot([DAB.p2.x, DAB.p3.x], [DAB.p2.y, DAB.p3.y], marker='o', label='CB')\n",
        "plt.plot([DAB.p3.x, DAB.p1.x], [DAB.p3.y, DAB.p1.y], marker='o', label='CA')\n",
        "\n",
        "#BF\n",
        "plt.plot([BC.p1.x, BC.p2.x], [BC.p1.y, BC.p2.y], marker='o', label='BC')\n",
        "plt.plot([AE.p1.x, AE.p2.x], [AE.p1.y, AE.p2.y], marker='o', label='AE')\n",
        "plt.plot([BF.p1.x, BF.p2.x], [BF.p1.y, BF.p2.y], marker='o', label='BF')\n",
        "\n",
        "#Lines\n",
        "#plt.gca().add_artist(c3)\n",
        "plt.title('Proposition 2')\n",
        "plt.legend()\n",
        "plt.show()\n",
        "#plt.tight_layout()"
      ],
      "metadata": {
        "execution": {
          "iopub.status.busy": "2023-03-31T03:35:18.083765Z",
          "iopub.execute_input": "2023-03-31T03:35:18.084117Z",
          "iopub.status.idle": "2023-03-31T03:35:18.430399Z",
          "shell.execute_reply.started": "2023-03-31T03:35:18.084085Z",
          "shell.execute_reply": "2023-03-31T03:35:18.429021Z"
        },
        "trusted": true,
        "id": "JH2lSmHPCNc-",
        "outputId": "97888dca-fe46-443f-aa48-34fce58dc4fa"
      },
      "execution_count": null,
      "outputs": [
        {
          "output_type": "display_data",
          "data": {
            "text/plain": "<Figure size 432x288 with 1 Axes>",
            "image/png": "[encoded data removed]"
          },
          "metadata": {
            "needs_background": "light"
          }
        }
      ]
    },
    {
      "cell_type": "markdown",
      "source": [
        "# Proposition 3: For two given unqual straight-lines, to cut off from the greater a straight-line equal to the lesser.\n",
        "\n",
        "\n",
        "The objective here is to take two lines of unequal length, and make a third line equal to the smaller line."
      ],
      "metadata": {
        "id": "cZrPfBL7CNc-"
      }
    },
    {
      "cell_type": "code",
      "source": [
        "#Let AB and C be the two given unequal straight-lines, of which let the greater be AB.\n",
        "A = Point2(0,0)\n",
        "B = Point2(2,0)\n",
        "AB = Line2E(A, B)\n",
        "C = Line2E(Point2(-0.5, 2), Point2(0.5, 2))\n",
        "# Draw a circle of radius length of C and call it DEF\n",
        "DEF = Circle2E(A, C.__len__())\n",
        "#\n",
        "AE = Line2E(A, euclid._intersect_line2_circle(AB, DEF).p1)\n",
        "prop3_cond = AE.__len__() == C.__len__()\n",
        "if prop3_cond:\n",
        "    print(\"\")"
      ],
      "metadata": {
        "execution": {
          "iopub.status.busy": "2023-03-31T03:35:18.432424Z",
          "iopub.execute_input": "2023-03-31T03:35:18.433099Z",
          "iopub.status.idle": "2023-03-31T03:35:18.437784Z",
          "shell.execute_reply.started": "2023-03-31T03:35:18.433062Z",
          "shell.execute_reply": "2023-03-31T03:35:18.436810Z"
        },
        "trusted": true,
        "id": "rBWuAswbCNc-"
      },
      "execution_count": null,
      "outputs": []
    },
    {
      "cell_type": "code",
      "source": [
        "plt.axis([-3, 3, -3, 3])\n",
        "#plt.axis(\"equal\")\n",
        "\n",
        "#define circles\n",
        "circle1=plt.Circle((DEF.c.x, DEF.c.y), DEF.r, fill=False, color='red', label='c1')\n",
        "\n",
        "#plt.axis('equal')\n",
        "#add circles to plot\n",
        "plt.gca().add_artist(circle1)\n",
        "\n",
        "#BF\n",
        "plt.plot([C.p1.x, C.p2.x], [C.p1.y, C.p2.y], marker='o', label='C')\n",
        "plt.plot([AE.p1.x, AE.p2.x], [AE.p1.y, AE.p2.y], marker='o', label='AE')\n",
        "plt.plot([AB.p1.x, AB.p2.x], [AB.p1.y, AB.p2.y], marker='o', label='AB')\n",
        "\n",
        "#Lines\n",
        "#plt.gca().add_artist(c3)\n",
        "plt.title('Proposition 3')\n",
        "plt.legend()\n",
        "plt.show()\n",
        "#plt.tight_layout()"
      ],
      "metadata": {
        "execution": {
          "iopub.status.busy": "2023-03-31T03:35:18.496542Z",
          "iopub.execute_input": "2023-03-31T03:35:18.496941Z",
          "iopub.status.idle": "2023-03-31T03:35:18.754283Z",
          "shell.execute_reply.started": "2023-03-31T03:35:18.496907Z",
          "shell.execute_reply": "2023-03-31T03:35:18.753041Z"
        },
        "trusted": true,
        "id": "drza6dB5CNc-",
        "outputId": "c3691fed-bb7d-4633-dfc6-28d81bfc0a30"
      },
      "execution_count": null,
      "outputs": [
        {
          "output_type": "display_data",
          "data": {
            "text/plain": "<Figure size 432x288 with 1 Axes>",
            "image/png": "[encoded data removed]"
          },
          "metadata": {
            "needs_background": "light"
          }
        }
      ]
    },
    {
      "cell_type": "code",
      "source": [
        "def prop_3(L1: Line2E, L2: Line2E):\n",
        "    \"\"\"\n",
        "    Given two unequal lines, returns a line equal to the lesser of the two\n",
        "    \"\"\"\n",
        "    if L1.__len__() == L2.__len__():\n",
        "        print(\"Lines already equal\")\n",
        "        return None\n",
        "    return None"
      ],
      "metadata": {
        "id": "1G1YPQXnCNc-"
      },
      "execution_count": null,
      "outputs": []
    },
    {
      "cell_type": "markdown",
      "source": [
        "# Proposition 4: \n",
        "\n",
        "If two triangles have two sides equal to two sides, respecitvely, and have angles enclosed by the equal straight-lines equal, then they will also have the base equal to the base, and the triangle will be equal to the triangle."
      ],
      "metadata": {
        "id": "Hqg392jTCNc_"
      }
    },
    {
      "cell_type": "code",
      "source": [
        "T1 = Triangle.SAS(1, 30.0, 2)\n",
        "T2 = Triangle.SAS(2, 30.0, 1)"
      ],
      "metadata": {
        "execution": {
          "iopub.status.busy": "2023-04-02T01:13:18.145322Z",
          "iopub.execute_input": "2023-04-02T01:13:18.145770Z",
          "iopub.status.idle": "2023-04-02T01:13:18.151159Z",
          "shell.execute_reply.started": "2023-04-02T01:13:18.145738Z",
          "shell.execute_reply": "2023-04-02T01:13:18.150255Z"
        },
        "trusted": true,
        "id": "yaXuSr6eCNc_"
      },
      "execution_count": null,
      "outputs": []
    },
    {
      "cell_type": "code",
      "source": [
        "#Draw Triangles\n",
        "T1.plot()"
      ],
      "metadata": {
        "execution": {
          "iopub.status.busy": "2023-04-02T01:13:20.343513Z",
          "iopub.execute_input": "2023-04-02T01:13:20.344143Z",
          "iopub.status.idle": "2023-04-02T01:13:20.645329Z",
          "shell.execute_reply.started": "2023-04-02T01:13:20.344084Z",
          "shell.execute_reply": "2023-04-02T01:13:20.644159Z"
        },
        "trusted": true,
        "id": "WN3UVNcICNc_",
        "outputId": "2dfbab04-7dc2-4ffe-db94-82ad7151ad51"
      },
      "execution_count": null,
      "outputs": [
        {
          "output_type": "display_data",
          "data": {
            "text/plain": "<Figure size 432x288 with 1 Axes>",
            "image/png": "[encoded data removed]"
          },
          "metadata": {
            "needs_background": "light"
          }
        }
      ]
    },
    {
      "cell_type": "code",
      "source": [
        "T2.plot()"
      ],
      "metadata": {
        "execution": {
          "iopub.status.busy": "2023-04-02T01:13:31.524295Z",
          "iopub.execute_input": "2023-04-02T01:13:31.524898Z",
          "iopub.status.idle": "2023-04-02T01:13:31.833866Z",
          "shell.execute_reply.started": "2023-04-02T01:13:31.524865Z",
          "shell.execute_reply": "2023-04-02T01:13:31.832757Z"
        },
        "trusted": true,
        "id": "zkd6B_7hCNc_",
        "outputId": "0a8c73fb-9c4d-4e24-a159-1f988aaff208"
      },
      "execution_count": null,
      "outputs": [
        {
          "output_type": "display_data",
          "data": {
            "text/plain": "<Figure size 432x288 with 1 Axes>",
            "image/png": "[encoded data removed]"
          },
          "metadata": {
            "needs_background": "light"
          }
        }
      ]
    },
    {
      "cell_type": "code",
      "source": [
        "T1.c.__len__() == T2.c.__len__()"
      ],
      "metadata": {
        "execution": {
          "iopub.status.busy": "2023-04-02T01:13:43.793875Z",
          "iopub.execute_input": "2023-04-02T01:13:43.794305Z",
          "iopub.status.idle": "2023-04-02T01:13:43.803077Z",
          "shell.execute_reply.started": "2023-04-02T01:13:43.794273Z",
          "shell.execute_reply": "2023-04-02T01:13:43.801628Z"
        },
        "trusted": true,
        "id": "H0d-lVUNCNc_",
        "outputId": "ab1d6444-fc14-4209-a1b3-12ec0a48f5d9"
      },
      "execution_count": null,
      "outputs": [
        {
          "execution_count": 127,
          "output_type": "execute_result",
          "data": {
            "text/plain": "True"
          },
          "metadata": {}
        }
      ]
    },
    {
      "cell_type": "markdown",
      "source": [
        "# Proposition 5\n",
        "\n",
        "For isosceles triangles, the angles at the base are equal to one another, and if the equal sides are produced then the angles under the base will be equal to one another."
      ],
      "metadata": {
        "id": "vzDh5putCNc_"
      }
    },
    {
      "cell_type": "code",
      "source": [],
      "metadata": {
        "id": "c29XpUcMCNc_"
      },
      "execution_count": null,
      "outputs": []
    },
    {
      "cell_type": "markdown",
      "source": [
        "# Proposition 6: If a triangle has two equal angles equal to one another then the sides subtending the equal angles will also be equal to one another."
      ],
      "metadata": {
        "id": "aNK_6oSwCNc_"
      }
    },
    {
      "cell_type": "markdown",
      "source": [
        "Before moving forward, it is important to define the term 'subtending'. \n",
        "\n",
        "> Specifically, an angle is said to subtend an arc or side when its two rays (or sides) extend from its vertex to the endpoints of the arc or side."
      ],
      "metadata": {
        "id": "nOGZo36BCNc_"
      }
    },
    {
      "cell_type": "code",
      "source": [
        "test = Triangle.ASA(30.0, 1, 30.0)"
      ],
      "metadata": {
        "execution": {
          "iopub.status.busy": "2023-03-31T20:41:26.318770Z",
          "iopub.execute_input": "2023-03-31T20:41:26.319199Z",
          "iopub.status.idle": "2023-03-31T20:41:26.325704Z",
          "shell.execute_reply.started": "2023-03-31T20:41:26.319166Z",
          "shell.execute_reply": "2023-03-31T20:41:26.324217Z"
        },
        "trusted": true,
        "id": "0Pkjxp4wCNdA"
      },
      "execution_count": null,
      "outputs": []
    },
    {
      "cell_type": "code",
      "source": [
        "test.AB.__len__() == test.CA.__len__()"
      ],
      "metadata": {
        "execution": {
          "iopub.status.busy": "2023-03-31T20:41:27.789037Z",
          "iopub.execute_input": "2023-03-31T20:41:27.789449Z",
          "iopub.status.idle": "2023-03-31T20:41:27.797395Z",
          "shell.execute_reply.started": "2023-03-31T20:41:27.789419Z",
          "shell.execute_reply": "2023-03-31T20:41:27.796252Z"
        },
        "trusted": true,
        "id": "4zDlV11ECNdA",
        "outputId": "955bf457-53ba-4fc3-ceb4-32f3c048daf5"
      },
      "execution_count": null,
      "outputs": [
        {
          "execution_count": 71,
          "output_type": "execute_result",
          "data": {
            "text/plain": "True"
          },
          "metadata": {}
        }
      ]
    },
    {
      "cell_type": "code",
      "source": [
        "test = Triangle.ASA(60.0, 1, 60.0)"
      ],
      "metadata": {
        "execution": {
          "iopub.status.busy": "2023-03-31T20:41:30.137647Z",
          "iopub.execute_input": "2023-03-31T20:41:30.138067Z",
          "iopub.status.idle": "2023-03-31T20:41:30.144549Z",
          "shell.execute_reply.started": "2023-03-31T20:41:30.138032Z",
          "shell.execute_reply": "2023-03-31T20:41:30.143025Z"
        },
        "trusted": true,
        "id": "ovPSmkQ6CNdA"
      },
      "execution_count": null,
      "outputs": []
    },
    {
      "cell_type": "code",
      "source": [
        "test.AB.__len__() == test.CA.__len__()"
      ],
      "metadata": {
        "execution": {
          "iopub.status.busy": "2023-03-31T20:41:31.988906Z",
          "iopub.execute_input": "2023-03-31T20:41:31.989291Z",
          "iopub.status.idle": "2023-03-31T20:41:31.997400Z",
          "shell.execute_reply.started": "2023-03-31T20:41:31.989261Z",
          "shell.execute_reply": "2023-03-31T20:41:31.996055Z"
        },
        "trusted": true,
        "id": "c68gkPcqCNdA",
        "outputId": "74e85cb6-f10c-4938-9a77-70b992d0ac53"
      },
      "execution_count": null,
      "outputs": [
        {
          "execution_count": 73,
          "output_type": "execute_result",
          "data": {
            "text/plain": "True"
          },
          "metadata": {}
        }
      ]
    },
    {
      "cell_type": "markdown",
      "source": [
        "# Proposition 7: On the same straight-line, two other straight-lines equal, respectively, to two straight-lines cannot be constructed at a different point on the same side, but having the same ends as the given straight-lines"
      ],
      "metadata": {
        "id": "_uLXslK1CNdA"
      }
    },
    {
      "cell_type": "code",
      "source": [],
      "metadata": {
        "id": "wiX-1qemCNdA"
      },
      "execution_count": null,
      "outputs": []
    },
    {
      "cell_type": "markdown",
      "source": [
        "# Proposition 8: If two triangles have two sides equal to two sides, respectively, and also have the base equal to the base then they will also have equal the angles encompassed by the equal straight-lines."
      ],
      "metadata": {
        "id": "-Mj-uIVuCNdA"
      }
    },
    {
      "cell_type": "code",
      "source": [
        "# Construct two triangles with three equal sides\n",
        "T1 = Triangle.SSS(3,4,5)\n",
        "T2 = Triangle.SSS(3,4,5)"
      ],
      "metadata": {
        "execution": {
          "iopub.status.busy": "2023-04-02T01:15:54.926867Z",
          "iopub.execute_input": "2023-04-02T01:15:54.927337Z",
          "iopub.status.idle": "2023-04-02T01:15:54.933906Z",
          "shell.execute_reply.started": "2023-04-02T01:15:54.927301Z",
          "shell.execute_reply": "2023-04-02T01:15:54.932671Z"
        },
        "trusted": true,
        "id": "ESurMoQXCNdA",
        "outputId": "a3c77ff9-66cb-4295-84e0-42152cb90116"
      },
      "execution_count": null,
      "outputs": [
        {
          "name": "stdout",
          "text": "90.0\n90.0\n",
          "output_type": "stream"
        }
      ]
    },
    {
      "cell_type": "code",
      "source": [
        "T1.gamma == T2.gamma and T1.alpha == T2.alpha and T1.beta == T2.beta"
      ],
      "metadata": {
        "execution": {
          "iopub.status.busy": "2023-04-02T01:15:57.289719Z",
          "iopub.execute_input": "2023-04-02T01:15:57.290463Z",
          "iopub.status.idle": "2023-04-02T01:15:57.299458Z",
          "shell.execute_reply.started": "2023-04-02T01:15:57.290411Z",
          "shell.execute_reply": "2023-04-02T01:15:57.298146Z"
        },
        "trusted": true,
        "id": "PUfLIBm-CNdA",
        "outputId": "b7f088a4-3369-4b9d-8165-755e35a977f4"
      },
      "execution_count": null,
      "outputs": [
        {
          "execution_count": 129,
          "output_type": "execute_result",
          "data": {
            "text/plain": "True"
          },
          "metadata": {}
        }
      ]
    },
    {
      "cell_type": "markdown",
      "source": [
        "# Proposition 9: To cut a given rectilinear angle in half"
      ],
      "metadata": {
        "id": "KxIWfrTHCNdB"
      }
    },
    {
      "cell_type": "code",
      "source": [
        "#Draw two lines, pick point at random, draw DE, construct equilateral, draw FA"
      ],
      "metadata": {
        "id": "ZKmFUahZCNdB"
      },
      "execution_count": null,
      "outputs": []
    },
    {
      "cell_type": "markdown",
      "source": [
        "# Proposition 10: To cut a given finite straight-line in half"
      ],
      "metadata": {
        "id": "ab3UiIy3CNdB"
      }
    },
    {
      "cell_type": "code",
      "source": [
        "#LET AB BE THE GIVEN FINITE STRAIGHT-LINE.\n",
        "AB = Line2E(Point2E(0.0, 0.0), Point2E(2.0, 0.0))"
      ],
      "metadata": {
        "execution": {
          "iopub.status.busy": "2023-04-04T03:51:16.167882Z",
          "iopub.execute_input": "2023-04-04T03:51:16.168434Z",
          "iopub.status.idle": "2023-04-04T03:51:16.174815Z",
          "shell.execute_reply.started": "2023-04-04T03:51:16.168393Z",
          "shell.execute_reply": "2023-04-04T03:51:16.173295Z"
        },
        "trusted": true,
        "id": "6Ui1L4sbCNdB"
      },
      "execution_count": null,
      "outputs": []
    },
    {
      "cell_type": "code",
      "source": [
        "ABC = draw_equilateral(AB)"
      ],
      "metadata": {
        "execution": {
          "iopub.status.busy": "2023-04-04T03:51:18.184122Z",
          "iopub.execute_input": "2023-04-04T03:51:18.184581Z",
          "iopub.status.idle": "2023-04-04T03:51:18.191477Z",
          "shell.execute_reply.started": "2023-04-04T03:51:18.184543Z",
          "shell.execute_reply": "2023-04-04T03:51:18.190066Z"
        },
        "trusted": true,
        "id": "L41V7BFhCNdB",
        "outputId": "48706ed4-91f3-4cfa-b26e-d92323f2ff51"
      },
      "execution_count": null,
      "outputs": [
        {
          "name": "stdout",
          "text": "2.0\nC = 1.0, 1.7320508075688772\n2.0\n2.0\n2.0\n",
          "output_type": "stream"
        }
      ]
    },
    {
      "cell_type": "code",
      "source": [
        "CD = ABC.C.connect(AB)"
      ],
      "metadata": {
        "execution": {
          "iopub.status.busy": "2023-04-04T03:52:06.743169Z",
          "iopub.execute_input": "2023-04-04T03:52:06.743708Z",
          "iopub.status.idle": "2023-04-04T03:52:06.750222Z",
          "shell.execute_reply.started": "2023-04-04T03:52:06.743669Z",
          "shell.execute_reply": "2023-04-04T03:52:06.748892Z"
        },
        "trusted": true,
        "id": "Z7VJQgUECNdB"
      },
      "execution_count": null,
      "outputs": []
    },
    {
      "cell_type": "code",
      "source": [
        "D = CD.p2"
      ],
      "metadata": {
        "execution": {
          "iopub.status.busy": "2023-04-04T03:52:57.674258Z",
          "iopub.execute_input": "2023-04-04T03:52:57.674695Z",
          "iopub.status.idle": "2023-04-04T03:52:57.680245Z",
          "shell.execute_reply.started": "2023-04-04T03:52:57.674658Z",
          "shell.execute_reply": "2023-04-04T03:52:57.678964Z"
        },
        "trusted": true,
        "id": "8eE8ZgoJCNdB"
      },
      "execution_count": null,
      "outputs": []
    },
    {
      "cell_type": "code",
      "source": [
        "AD = Line2E(A, D)\n",
        "DB = Line2E(D,B)"
      ],
      "metadata": {
        "execution": {
          "iopub.status.busy": "2023-04-04T03:53:44.813204Z",
          "iopub.execute_input": "2023-04-04T03:53:44.813713Z",
          "iopub.status.idle": "2023-04-04T03:53:44.819859Z",
          "shell.execute_reply.started": "2023-04-04T03:53:44.813669Z",
          "shell.execute_reply": "2023-04-04T03:53:44.818705Z"
        },
        "trusted": true,
        "id": "fv-0ExrKCNdB"
      },
      "execution_count": null,
      "outputs": []
    },
    {
      "cell_type": "code",
      "source": [
        "AD.__len__() == DB.__len__()"
      ],
      "metadata": {
        "execution": {
          "iopub.status.busy": "2023-04-04T03:53:46.298574Z",
          "iopub.execute_input": "2023-04-04T03:53:46.299012Z",
          "iopub.status.idle": "2023-04-04T03:53:46.306697Z",
          "shell.execute_reply.started": "2023-04-04T03:53:46.298976Z",
          "shell.execute_reply": "2023-04-04T03:53:46.305823Z"
        },
        "trusted": true,
        "id": "jb8u4yidCNdC",
        "outputId": "13d1b65a-2f90-463c-8f45-c75a11055d46"
      },
      "execution_count": null,
      "outputs": [
        {
          "execution_count": 202,
          "output_type": "execute_result",
          "data": {
            "text/plain": "True"
          },
          "metadata": {}
        }
      ]
    },
    {
      "cell_type": "code",
      "source": [
        "np.degrees(ABC.b.v.angle(ABC.c.v))"
      ],
      "metadata": {
        "execution": {
          "iopub.status.busy": "2023-04-04T03:37:27.048151Z",
          "iopub.execute_input": "2023-04-04T03:37:27.048690Z",
          "iopub.status.idle": "2023-04-04T03:37:27.057303Z",
          "shell.execute_reply.started": "2023-04-04T03:37:27.048655Z",
          "shell.execute_reply": "2023-04-04T03:37:27.055974Z"
        },
        "trusted": true,
        "id": "a6a3-m_XCNdC",
        "outputId": "58ff59c5-ad1d-458b-c7a6-05a187445bb1"
      },
      "execution_count": null,
      "outputs": [
        {
          "execution_count": 167,
          "output_type": "execute_result",
          "data": {
            "text/plain": "120.00000000000001"
          },
          "metadata": {}
        }
      ]
    },
    {
      "cell_type": "code",
      "source": [
        "np.degrees(ABC.c.v.angle(ABC.a.v))"
      ],
      "metadata": {
        "execution": {
          "iopub.status.busy": "2023-04-04T03:18:59.662040Z",
          "iopub.execute_input": "2023-04-04T03:18:59.662513Z",
          "iopub.status.idle": "2023-04-04T03:18:59.671784Z",
          "shell.execute_reply.started": "2023-04-04T03:18:59.662474Z",
          "shell.execute_reply": "2023-04-04T03:18:59.670483Z"
        },
        "trusted": true,
        "id": "UegJEAhnCNdC",
        "outputId": "0e669405-33d2-4572-a739-db79b862f089"
      },
      "execution_count": null,
      "outputs": [
        {
          "execution_count": 157,
          "output_type": "execute_result",
          "data": {
            "text/plain": "90.0"
          },
          "metadata": {}
        }
      ]
    },
    {
      "cell_type": "code",
      "source": [
        "ABC.plot()"
      ],
      "metadata": {
        "execution": {
          "iopub.status.busy": "2023-04-04T03:49:56.189999Z",
          "iopub.execute_input": "2023-04-04T03:49:56.190436Z",
          "iopub.status.idle": "2023-04-04T03:49:56.388940Z",
          "shell.execute_reply.started": "2023-04-04T03:49:56.190402Z",
          "shell.execute_reply": "2023-04-04T03:49:56.387694Z"
        },
        "trusted": true,
        "id": "CJEgAwDoCNdC",
        "outputId": "fdcbb04d-73fb-4a55-f479-931ac1410cf8"
      },
      "execution_count": null,
      "outputs": [
        {
          "output_type": "display_data",
          "data": {
            "text/plain": "<Figure size 432x288 with 1 Axes>",
            "image/png": "[encoded data removed]"
          },
          "metadata": {
            "needs_background": "light"
          }
        }
      ]
    },
    {
      "cell_type": "code",
      "source": [
        "#Write function to cut line in half\n",
        "def prop_10(line: Line2E):\n",
        "    ABC = draw_equilateral(line)\n",
        "    CD = ABC.C.connect(AB)\n",
        "    D = CD.p2\n",
        "    AD = Line2E(A, D)\n",
        "    DB = Line2E(D,B)\n",
        "    return AD, DB"
      ],
      "metadata": {
        "id": "XNiBRgDjCNdC"
      },
      "execution_count": null,
      "outputs": []
    },
    {
      "cell_type": "markdown",
      "source": [
        "# Proposition 11: To draw a straight-line at right-angles to a given straight-line from a given point on it."
      ],
      "metadata": {
        "id": "1oZw0CFVCNdC"
      }
    },
    {
      "cell_type": "code",
      "source": [
        "#AB be straight line, C given point on the line. Pick D at random, create CD, CE. \n",
        "#Construct equilateral FDE, join FC, check angles. Plot all this"
      ],
      "metadata": {
        "id": "gHqhko9ICNdC"
      },
      "execution_count": null,
      "outputs": []
    },
    {
      "cell_type": "code",
      "source": [
        "A = Point2E(0.0, 0.0)\n",
        "B = Point2E(4.0, 0.0)\n",
        "AB = Line2E(A, B)\n",
        "C = Point2E(2.0, 0.0)\n",
        "#Required to draw straight-line from the point C at right angle"
      ],
      "metadata": {
        "id": "vOpjCAuSCNdC"
      },
      "execution_count": null,
      "outputs": []
    },
    {
      "cell_type": "code",
      "source": [
        "#Pick D at random on AC\n",
        "#Make CE equal to CD using 1.3\n",
        "#Construct equilateral triangle off of DE\n",
        "#Construct FC\n",
        "#Measure Angles"
      ],
      "metadata": {
        "id": "xn_waEwaCNdC"
      },
      "execution_count": null,
      "outputs": []
    },
    {
      "cell_type": "code",
      "source": [
        "# Plot\n",
        "plt.axis([-3, 3, -3, 3])\n",
        "#plt.axis(\"equal\")\n",
        "\n",
        "#BF\n",
        "plt.plot([C.p1.x, C.p2.x], [C.p1.y, C.p2.y], marker='o', label='C')\n",
        "plt.plot([AE.p1.x, AE.p2.x], [AE.p1.y, AE.p2.y], marker='o', label='AE')\n",
        "plt.plot([AB.p1.x, AB.p2.x], [AB.p1.y, AB.p2.y], marker='o', label='AB')\n",
        "\n",
        "#Lines\n",
        "#plt.gca().add_artist(c3)\n",
        "plt.title('Proposition 3')\n",
        "plt.legend()\n",
        "plt.show()\n",
        "#plt.tight_layout()"
      ],
      "metadata": {
        "id": "CVo-I6W5CNdC"
      },
      "execution_count": null,
      "outputs": []
    },
    {
      "cell_type": "markdown",
      "source": [
        "\n",
        "# Proposition 12: To draw a straight-line perpendicular to a given infite straight-line from a given point which is not on it."
      ],
      "metadata": {
        "id": "JIphiIrnCNdC"
      }
    },
    {
      "cell_type": "code",
      "source": [
        "#"
      ],
      "metadata": {
        "id": "BXUX5iULCNdD"
      },
      "execution_count": null,
      "outputs": []
    },
    {
      "cell_type": "markdown",
      "source": [
        "# Proposition 13: If a straight-line stood on another straight-line makes angles, it will certainly either make two right angles or angle whose sum is equal to two right angles. "
      ],
      "metadata": {
        "id": "gf-CPQDcCNdD"
      }
    },
    {
      "cell_type": "code",
      "source": [
        "#Create lines CD, AB (random angle), EB (right angle) follow the logic and plot"
      ],
      "metadata": {
        "id": "Xtg0nsFrCNdD"
      },
      "execution_count": null,
      "outputs": []
    },
    {
      "cell_type": "code",
      "source": [
        "D = Point2E(0.0, 0.0)\n",
        "C = Point2E(4.0, 0.0)\n",
        "DC = Line2E(D,C)\n",
        "A = Point2E(2.0, 2.0)"
      ],
      "metadata": {
        "execution": {
          "iopub.status.busy": "2023-04-05T02:51:43.980056Z",
          "iopub.execute_input": "2023-04-05T02:51:43.980529Z",
          "iopub.status.idle": "2023-04-05T02:51:43.986090Z",
          "shell.execute_reply.started": "2023-04-05T02:51:43.980491Z",
          "shell.execute_reply": "2023-04-05T02:51:43.985238Z"
        },
        "trusted": true,
        "id": "CSxb9xGXCNdD"
      },
      "execution_count": null,
      "outputs": []
    },
    {
      "cell_type": "code",
      "source": [
        "AB1 = A.connect(DC)\n",
        "B1 = AB1.p2\n",
        "B1C = Line2E(B1, C)\n",
        "B1D = Line2E(D, B1)"
      ],
      "metadata": {
        "execution": {
          "iopub.status.busy": "2023-04-05T02:51:24.581734Z",
          "iopub.execute_input": "2023-04-05T02:51:24.582184Z",
          "iopub.status.idle": "2023-04-05T02:51:24.588491Z",
          "shell.execute_reply.started": "2023-04-05T02:51:24.582150Z",
          "shell.execute_reply": "2023-04-05T02:51:24.587118Z"
        },
        "trusted": true,
        "id": "RkcTmOlWCNdD"
      },
      "execution_count": null,
      "outputs": []
    },
    {
      "cell_type": "code",
      "source": [
        "np.degrees(AB1.v.angle(B1C.v)) == np.degrees(AB1.v.angle(B1D.v)) == 90.0"
      ],
      "metadata": {
        "execution": {
          "iopub.status.busy": "2023-04-05T02:51:52.977407Z",
          "iopub.execute_input": "2023-04-05T02:51:52.978584Z",
          "iopub.status.idle": "2023-04-05T02:51:52.987065Z",
          "shell.execute_reply.started": "2023-04-05T02:51:52.978537Z",
          "shell.execute_reply": "2023-04-05T02:51:52.985612Z"
        },
        "trusted": true,
        "id": "zurBBX1jCNdD",
        "outputId": "6ca2bfe0-b62b-4434-88b8-a283a1791ca5"
      },
      "execution_count": null,
      "outputs": [
        {
          "execution_count": 43,
          "output_type": "execute_result",
          "data": {
            "text/plain": "True"
          },
          "metadata": {}
        }
      ]
    },
    {
      "cell_type": "code",
      "source": [
        "#Pick B, connect with E and A, sum all the angles"
      ],
      "metadata": {
        "execution": {
          "iopub.status.busy": "2023-04-05T02:46:03.001289Z",
          "iopub.execute_input": "2023-04-05T02:46:03.001755Z",
          "iopub.status.idle": "2023-04-05T02:46:03.009158Z",
          "shell.execute_reply.started": "2023-04-05T02:46:03.001716Z",
          "shell.execute_reply": "2023-04-05T02:46:03.008075Z"
        },
        "trusted": true,
        "id": "tDKzChZ5CNdD",
        "outputId": "f7037f28-5790-4586-f31e-864b1f679218"
      },
      "execution_count": null,
      "outputs": [
        {
          "execution_count": 33,
          "output_type": "execute_result",
          "data": {
            "text/plain": "1.5707963267948966"
          },
          "metadata": {}
        }
      ]
    },
    {
      "cell_type": "code",
      "source": [
        "#Plot\n",
        "plt.axis([-3, 3, -3, 3])\n",
        "#plt.axis(\"equal\")\n",
        "\n",
        "\n",
        "#BF\n",
        "plt.plot([DC.p1.x, DC.p2.x], [DC.p1.y, DC.p2.y], marker='o', label='DC')\n",
        "plt.plot([AB1.p1.x, AB1.p2.x], [AB1.p1.y, AB1.p2.y], marker='o', label='AB')\n",
        "#draw right angles\n",
        "\n",
        "#Lines\n",
        "#plt.gca().add_artist(c3)\n",
        "plt.title('Proposition 13')\n",
        "plt.legend()\n",
        "plt.show()\n",
        "#plt.tight_layout()"
      ],
      "metadata": {
        "id": "DjtAgZGiCNdD"
      },
      "execution_count": null,
      "outputs": []
    },
    {
      "cell_type": "markdown",
      "source": [
        "# Proposition 14: If two straight-lines, not lying on the same side, make adjacent angles, whose sum is equal to two right angles with some straight-line, at a point on it, then the two straight-lines will be straight-on with respect to one another."
      ],
      "metadata": {
        "id": "rHrOzgM7CNdD"
      }
    },
    {
      "cell_type": "code",
      "source": [
        "#Create BC and BD\n",
        "#Create AB\n",
        "#Create EB\n",
        "#Create Angles\n",
        "#Show that AB and BE can't be straight on with CB and CD because of prop 13"
      ],
      "metadata": {
        "id": "Y0fO4RYoCNdE"
      },
      "execution_count": null,
      "outputs": []
    },
    {
      "cell_type": "markdown",
      "source": [
        "# Proposition 15: If two straight-lines cut one another then they make the vertically opposite angles equal to one another. "
      ],
      "metadata": {
        "id": "ZthutazlCNdE"
      }
    },
    {
      "cell_type": "code",
      "source": [
        "DC = Line2E(Point2E(-1.0, 0.0), Point2E(1.0, 0.0))\n",
        "AB = Line2E(Point2E(-1.0, 1.0), Point2E(1.0, -1.0))"
      ],
      "metadata": {
        "execution": {
          "iopub.status.busy": "2023-03-29T01:55:17.045030Z",
          "iopub.execute_input": "2023-03-29T01:55:17.045499Z",
          "iopub.status.idle": "2023-03-29T01:55:17.052744Z",
          "shell.execute_reply.started": "2023-03-29T01:55:17.045463Z",
          "shell.execute_reply": "2023-03-29T01:55:17.051361Z"
        },
        "trusted": true,
        "id": "mAFWSd6yCNdE"
      },
      "execution_count": null,
      "outputs": []
    },
    {
      "cell_type": "code",
      "source": [
        "E = euclid._intersect_line2_line2(DC, AB)\n",
        "AE = Line2E(Point2E(-1.0, 1.0), Point2E(E.x, E.y))\n",
        "EB = Line2E(Point2E(E.x, E.y), Point2E(1.0, -1.0))"
      ],
      "metadata": {
        "execution": {
          "iopub.status.busy": "2023-03-29T01:57:46.022029Z",
          "iopub.execute_input": "2023-03-29T01:57:46.022445Z",
          "iopub.status.idle": "2023-03-29T01:57:46.029888Z",
          "shell.execute_reply.started": "2023-03-29T01:57:46.022409Z",
          "shell.execute_reply": "2023-03-29T01:57:46.028799Z"
        },
        "trusted": true,
        "id": "Bdz8aruOCNdE"
      },
      "execution_count": null,
      "outputs": []
    },
    {
      "cell_type": "code",
      "source": [
        "plt.axis([-1.5, 1.5, -1.5, 1.5])\n",
        "#plt.axis(\"equal\")\n",
        "#BF\n",
        "plt.plot([AB.p1.x, AB.p2.x], [AB.p1.y, AB.p2.y], marker='o', label='AE')\n",
        "plt.plot([DC.p1.x, DC.p2.x], [DC.p1.y, DC.p2.y], marker='o', label='AB')\n",
        "\n",
        "#Lines\n",
        "#plt.gca().add_artist(c3)\n",
        "plt.title('Proposition 15')\n",
        "plt.legend()\n",
        "plt.show()"
      ],
      "metadata": {
        "execution": {
          "iopub.status.busy": "2023-03-29T02:02:33.656701Z",
          "iopub.execute_input": "2023-03-29T02:02:33.657558Z",
          "iopub.status.idle": "2023-03-29T02:02:33.888038Z",
          "shell.execute_reply.started": "2023-03-29T02:02:33.657507Z",
          "shell.execute_reply": "2023-03-29T02:02:33.886573Z"
        },
        "trusted": true,
        "id": "t1pCpZDHCNdE",
        "outputId": "a2bc547a-bf2d-4ec5-d909-ae278c836c38"
      },
      "execution_count": null,
      "outputs": [
        {
          "output_type": "display_data",
          "data": {
            "text/plain": "<Figure size 432x288 with 1 Axes>",
            "image/png": "[encoded data removed]"
          },
          "metadata": {
            "needs_background": "light"
          }
        }
      ]
    },
    {
      "cell_type": "code",
      "source": [
        "#CHECK THAT VERTICALLY OPPOSITE ANGLES EQUAL\n",
        "AE.v.angle(DC.v) == EB.v.angle(DC.v)"
      ],
      "metadata": {
        "execution": {
          "iopub.status.busy": "2023-03-29T02:01:16.698997Z",
          "iopub.execute_input": "2023-03-29T02:01:16.699463Z",
          "iopub.status.idle": "2023-03-29T02:01:16.707635Z",
          "shell.execute_reply.started": "2023-03-29T02:01:16.699406Z",
          "shell.execute_reply": "2023-03-29T02:01:16.706305Z"
        },
        "trusted": true,
        "id": "jNFOQV1dCNdE",
        "outputId": "a85b100b-1bcf-4721-d2e9-1e4abcea131e"
      },
      "execution_count": null,
      "outputs": [
        {
          "execution_count": 74,
          "output_type": "execute_result",
          "data": {
            "text/plain": "True"
          },
          "metadata": {}
        }
      ]
    },
    {
      "cell_type": "code",
      "source": [
        "#CHECK ROUNDED DEGREE VALUE IS AS EXPECTED\n",
        "round(np.degrees(AE.v.angle(DC.v)), 2)"
      ],
      "metadata": {
        "execution": {
          "iopub.status.busy": "2023-03-29T02:02:00.601971Z",
          "iopub.execute_input": "2023-03-29T02:02:00.602399Z",
          "iopub.status.idle": "2023-03-29T02:02:00.612317Z",
          "shell.execute_reply.started": "2023-03-29T02:02:00.602365Z",
          "shell.execute_reply": "2023-03-29T02:02:00.610594Z"
        },
        "trusted": true,
        "id": "Hy_lNnxZCNdE",
        "outputId": "21c9f5b6-bb0e-440b-f6a4-f8398be34cbc"
      },
      "execution_count": null,
      "outputs": [
        {
          "execution_count": 77,
          "output_type": "execute_result",
          "data": {
            "text/plain": "45.0"
          },
          "metadata": {}
        }
      ]
    },
    {
      "cell_type": "markdown",
      "source": [
        "# Proposition 16: For any triangle, when one of the sides is produced, the the external angle is greater than each of the internal and opposite angles."
      ],
      "metadata": {
        "id": "xn0_rKk-CNdE"
      }
    },
    {
      "cell_type": "code",
      "source": [
        "#Let ABC be a triangle, let one of its sides BC extend to D\n",
        "#Show that external angle ACD is greater than each of the internal and opposite angles CBA and BAC\n",
        "#put in terms of the notebook\n",
        "#cut AC in half at E"
      ],
      "metadata": {
        "id": "huOnrisnCNdE"
      },
      "execution_count": null,
      "outputs": []
    },
    {
      "cell_type": "markdown",
      "source": [
        "# Proposition 17: For any triangle, the sum of two angles taken together in any possible way is less than two right-angles."
      ],
      "metadata": {
        "id": "grYGMer9CNdE"
      }
    },
    {
      "cell_type": "code",
      "source": [
        "\n",
        "ABC = Triangle.SSS(3, 4, 5)\n",
        "print(ABC.gamma + ABC.beta < 180)\n",
        "print(ABC.gamma + ABC.alpha < 180)\n",
        "print(ABC.beta + ABC.alpha < 180)"
      ],
      "metadata": {
        "execution": {
          "iopub.status.busy": "2023-04-10T23:12:29.104709Z",
          "iopub.execute_input": "2023-04-10T23:12:29.105236Z",
          "iopub.status.idle": "2023-04-10T23:12:29.114611Z",
          "shell.execute_reply.started": "2023-04-10T23:12:29.105196Z",
          "shell.execute_reply": "2023-04-10T23:12:29.112936Z"
        },
        "trusted": true,
        "id": "sIY8nfn1CNdF",
        "outputId": "429bef41-2e92-42a3-a847-b44aa28ab946"
      },
      "execution_count": null,
      "outputs": [
        {
          "name": "stdout",
          "text": "90.0\nTrue\nTrue\nTrue\n",
          "output_type": "stream"
        }
      ]
    },
    {
      "cell_type": "markdown",
      "source": [
        "# Proposition 18: In any triangle, the greater side subtends the greater angle. \n",
        "\n",
        "This proposition is saying that given that one side is greater than the other, the corresponding angles must also hold the same inequality. "
      ],
      "metadata": {
        "id": "O-9-6BeZCNdF"
      }
    },
    {
      "cell_type": "code",
      "source": [
        "ABC = Triangle.SSS(3, 4, 5)\n",
        "ABC.plot()"
      ],
      "metadata": {
        "execution": {
          "iopub.status.busy": "2023-04-10T23:09:24.145237Z",
          "iopub.execute_input": "2023-04-10T23:09:24.145715Z",
          "iopub.status.idle": "2023-04-10T23:09:24.333164Z",
          "shell.execute_reply.started": "2023-04-10T23:09:24.145677Z",
          "shell.execute_reply": "2023-04-10T23:09:24.331903Z"
        },
        "trusted": true,
        "id": "ZMDLcyzDCNdF",
        "outputId": "cc6b707a-0232-454d-faf7-bf5c81950f10"
      },
      "execution_count": null,
      "outputs": [
        {
          "name": "stdout",
          "text": "90.0\n",
          "output_type": "stream"
        },
        {
          "output_type": "display_data",
          "data": {
            "text/plain": "<Figure size 432x288 with 1 Axes>",
            "image/png": "[encoded data removed]"
          },
          "metadata": {
            "needs_background": "light"
          }
        }
      ]
    },
    {
      "cell_type": "code",
      "source": [
        "#ENSURE c has the greatest length\n",
        "ABC.c.__len__() > ABC.b.__len__() and ABC.c.__len__() > ABC.a.__len__()"
      ],
      "metadata": {
        "execution": {
          "iopub.status.busy": "2023-04-10T23:10:23.493299Z",
          "iopub.execute_input": "2023-04-10T23:10:23.493683Z",
          "iopub.status.idle": "2023-04-10T23:10:23.502242Z",
          "shell.execute_reply.started": "2023-04-10T23:10:23.493653Z",
          "shell.execute_reply": "2023-04-10T23:10:23.501019Z"
        },
        "trusted": true,
        "id": "XC6hmfECCNdF",
        "outputId": "f6d73727-864d-4772-de3a-8962b142aa6b"
      },
      "execution_count": null,
      "outputs": [
        {
          "execution_count": 19,
          "output_type": "execute_result",
          "data": {
            "text/plain": "True"
          },
          "metadata": {}
        }
      ]
    },
    {
      "cell_type": "code",
      "source": [
        "#ENSURE ANGLE OF c (gamma) has greatest magnitude\n",
        "ABC.gamma > ABC.alpha and ABC.gamma > ABC.beta"
      ],
      "metadata": {
        "execution": {
          "iopub.status.busy": "2023-04-10T23:10:27.126207Z",
          "iopub.execute_input": "2023-04-10T23:10:27.126712Z",
          "iopub.status.idle": "2023-04-10T23:10:27.135760Z",
          "shell.execute_reply.started": "2023-04-10T23:10:27.126670Z",
          "shell.execute_reply": "2023-04-10T23:10:27.134413Z"
        },
        "trusted": true,
        "id": "kw2vqu_VCNdF",
        "outputId": "cd7d141c-4411-4273-813d-e128d15335b9"
      },
      "execution_count": null,
      "outputs": [
        {
          "execution_count": 20,
          "output_type": "execute_result",
          "data": {
            "text/plain": "True"
          },
          "metadata": {}
        }
      ]
    },
    {
      "cell_type": "markdown",
      "source": [
        "# Proposition 19: In any triangle, the greater angle is subtended by the greater side. \n",
        "\n",
        "This proposition is saying that given that one angle is greater than another, the corresponding sides must also hold the same inequality."
      ],
      "metadata": {
        "id": "HLd6kxZhCNdF"
      }
    },
    {
      "cell_type": "code",
      "source": [
        "#Show that when a triangle is created, the greatest angle subtends the greatest side"
      ],
      "metadata": {
        "id": "ysr606g2CNdF"
      },
      "execution_count": null,
      "outputs": []
    },
    {
      "cell_type": "markdown",
      "source": [
        "# Proposition 20: In any triangle, the sum of two sides taken together in any possible way is greater than the remaining side."
      ],
      "metadata": {
        "id": "UR1We0hcCNdF"
      }
    },
    {
      "cell_type": "code",
      "source": [
        "ABC.AB_l + ABC.CB_l > ABC.CA_l"
      ],
      "metadata": {
        "execution": {
          "iopub.status.busy": "2023-03-26T05:18:55.565230Z",
          "iopub.execute_input": "2023-03-26T05:18:55.566466Z",
          "iopub.status.idle": "2023-03-26T05:18:55.573045Z",
          "shell.execute_reply.started": "2023-03-26T05:18:55.566410Z",
          "shell.execute_reply": "2023-03-26T05:18:55.572209Z"
        },
        "trusted": true,
        "id": "pKqh3uX6CNdF",
        "outputId": "3c897189-3251-4130-e973-14c82298ec4b"
      },
      "execution_count": null,
      "outputs": [
        {
          "execution_count": 46,
          "output_type": "execute_result",
          "data": {
            "text/plain": "True"
          },
          "metadata": {}
        }
      ]
    },
    {
      "cell_type": "code",
      "source": [
        "ABC.AB_l + ABC.CA_l > ABC.CB_l"
      ],
      "metadata": {
        "execution": {
          "iopub.status.busy": "2023-03-26T05:18:57.350440Z",
          "iopub.execute_input": "2023-03-26T05:18:57.350838Z",
          "iopub.status.idle": "2023-03-26T05:18:57.357714Z",
          "shell.execute_reply.started": "2023-03-26T05:18:57.350807Z",
          "shell.execute_reply": "2023-03-26T05:18:57.356570Z"
        },
        "trusted": true,
        "id": "8eQ4FzorCNdF",
        "outputId": "e04b0318-42c8-45b6-ce3d-6078a4c88d1d"
      },
      "execution_count": null,
      "outputs": [
        {
          "execution_count": 47,
          "output_type": "execute_result",
          "data": {
            "text/plain": "True"
          },
          "metadata": {}
        }
      ]
    },
    {
      "cell_type": "code",
      "source": [
        "ABC.AB.p2"
      ],
      "metadata": {
        "execution": {
          "iopub.status.busy": "2023-03-26T05:18:59.728695Z",
          "iopub.execute_input": "2023-03-26T05:18:59.729108Z",
          "iopub.status.idle": "2023-03-26T05:18:59.736584Z",
          "shell.execute_reply.started": "2023-03-26T05:18:59.729075Z",
          "shell.execute_reply": "2023-03-26T05:18:59.735414Z"
        },
        "trusted": true,
        "id": "q5afggz_CNdG",
        "outputId": "ab22699f-9479-46ac-b833-961121757108"
      },
      "execution_count": null,
      "outputs": [
        {
          "execution_count": 48,
          "output_type": "execute_result",
          "data": {
            "text/plain": "Point2(1.00, 1.00)"
          },
          "metadata": {}
        }
      ]
    },
    {
      "cell_type": "code",
      "source": [
        "ABC.CA_l + ABC.CB_l > ABC.AB_l"
      ],
      "metadata": {
        "execution": {
          "iopub.status.busy": "2023-03-26T05:19:01.784631Z",
          "iopub.execute_input": "2023-03-26T05:19:01.785939Z",
          "iopub.status.idle": "2023-03-26T05:19:01.793417Z",
          "shell.execute_reply.started": "2023-03-26T05:19:01.785884Z",
          "shell.execute_reply": "2023-03-26T05:19:01.792308Z"
        },
        "trusted": true,
        "id": "HHaMLBTQCNdG",
        "outputId": "a0adae4e-2b5b-42b3-a010-55ba602ccaa8"
      },
      "execution_count": null,
      "outputs": [
        {
          "execution_count": 49,
          "output_type": "execute_result",
          "data": {
            "text/plain": "True"
          },
          "metadata": {}
        }
      ]
    },
    {
      "cell_type": "markdown",
      "source": [],
      "metadata": {
        "id": "wjX5yTdcCNdG"
      }
    },
    {
      "cell_type": "markdown",
      "source": [
        "# Sources"
      ],
      "metadata": {
        "id": "3Bv6yBz2CNdG"
      }
    },
    {
      "cell_type": "markdown",
      "source": [
        "[1] Fitzpatrick, R. (2007). Euclid's Elements of Geometry: In English with an Introduction, and Notes. Springer Science & Business Media.\n",
        "\n",
        "[2] Github repo"
      ],
      "metadata": {
        "id": "iwb-WJNJCNdG"
      }
    }
  ]
}